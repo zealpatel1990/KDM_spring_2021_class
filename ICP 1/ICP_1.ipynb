{
  "nbformat": 4,
  "nbformat_minor": 0,
  "metadata": {
    "colab": {
      "name": "ICP 1.ipynb",
      "provenance": [],
      "collapsed_sections": [],
      "toc_visible": true,
      "include_colab_link": true
    },
    "kernelspec": {
      "name": "python3",
      "display_name": "Python 3"
    }
  },
  "cells": [
    {
      "cell_type": "markdown",
      "metadata": {
        "id": "view-in-github",
        "colab_type": "text"
      },
      "source": [
        "<a href=\"https://colab.research.google.com/github/zealpatel1990/KDM_spring_2021_class/blob/main/ICP%201/ICP_1.ipynb\" target=\"_parent\"><img src=\"https://colab.research.google.com/assets/colab-badge.svg\" alt=\"Open In Colab\"/></a>"
      ]
    },
    {
      "cell_type": "code",
      "metadata": {
        "colab": {
          "base_uri": "https://localhost:8080/"
        },
        "id": "6NXGqf2LwQG7",
        "outputId": "6b53da5a-00ed-46d7-9b52-f6bffe76613a"
      },
      "source": [
        "# import all the libraries \r\n",
        "import nltk\r\n",
        "nltk.download('punkt')\r\n",
        "nltk.download('averaged_perceptron_tagger')\r\n",
        "import pandas as pd\r\n",
        "from nltk.tokenize import sent_tokenize\r\n",
        "from nltk.tokenize import word_tokenize\r\n",
        "from nltk.probability import FreqDist\r\n",
        "import matplotlib.pyplot as plt"
      ],
      "execution_count": 12,
      "outputs": [
        {
          "output_type": "stream",
          "text": [
            "[nltk_data] Downloading package punkt to /root/nltk_data...\n",
            "[nltk_data]   Package punkt is already up-to-date!\n",
            "[nltk_data] Downloading package averaged_perceptron_tagger to\n",
            "[nltk_data]     /root/nltk_data...\n",
            "[nltk_data]   Unzipping taggers/averaged_perceptron_tagger.zip.\n"
          ],
          "name": "stdout"
        }
      ]
    },
    {
      "cell_type": "code",
      "metadata": {
        "colab": {
          "base_uri": "https://localhost:8080/"
        },
        "id": "YiflHjDpBXzd",
        "outputId": "00baa95d-ede7-4c33-dc10-99cd3b22b6d1"
      },
      "source": [
        "from google.colab import drive\n",
        "drive.mount('/content/drive')"
      ],
      "execution_count": 2,
      "outputs": [
        {
          "output_type": "stream",
          "text": [
            "Mounted at /content/drive\n"
          ],
          "name": "stdout"
        }
      ]
    },
    {
      "cell_type": "markdown",
      "metadata": {
        "id": "jZuNLacm5pW0"
      },
      "source": [
        "Next we will mount our google drive on the colab \r\n",
        "run the code below and follow the instructions the G drive will be mounted on drive -> MyDrive"
      ]
    },
    {
      "cell_type": "markdown",
      "metadata": {
        "id": "Em3LkHvJ5_UY"
      },
      "source": [
        "Readind the files as a pandas dataframe "
      ]
    },
    {
      "cell_type": "code",
      "metadata": {
        "colab": {
          "base_uri": "https://localhost:8080/",
          "height": 100
        },
        "id": "uwDfvRef1lrl",
        "outputId": "5ef9f477-5c7e-4896-e833-40b6b0b57f60"
      },
      "source": [
        "# i try to avoid mount drive just out of security concern\r\n",
        "# also as data is uploaded to github using directly that link\r\n",
        "dataset=pd.read_csv(\"https://raw.githubusercontent.com/zealpatel1990/KDM_spring_2021_class/main/ICP%201/input_file.txt\",delimiter=\"\\t\")\r\n",
        "dataset"
      ],
      "execution_count": 10,
      "outputs": [
        {
          "output_type": "execute_result",
          "data": {
            "text/html": [
              "<div>\n",
              "<style scoped>\n",
              "    .dataframe tbody tr th:only-of-type {\n",
              "        vertical-align: middle;\n",
              "    }\n",
              "\n",
              "    .dataframe tbody tr th {\n",
              "        vertical-align: top;\n",
              "    }\n",
              "\n",
              "    .dataframe thead th {\n",
              "        text-align: right;\n",
              "    }\n",
              "</style>\n",
              "<table border=\"1\" class=\"dataframe\">\n",
              "  <thead>\n",
              "    <tr style=\"text-align: right;\">\n",
              "      <th></th>\n",
              "      <th>Text Analytics has lots of applications in today's online world. By analyzing tweets on Twitter, we can find trending news and peoples reaction on a particular event. Amazon can understand user feedback or review on the specific product. BookMyShow can discover people's opinion about the movie. Youtube can also analyze and understand peoples viewpoints on a video.</th>\n",
              "    </tr>\n",
              "  </thead>\n",
              "  <tbody>\n",
              "  </tbody>\n",
              "</table>\n",
              "</div>"
            ],
            "text/plain": [
              "Empty DataFrame\n",
              "Columns: [Text Analytics has lots of applications in today's online world. By analyzing tweets on Twitter, we can find trending news and peoples reaction on a particular event. Amazon can understand user feedback or review on the specific product. BookMyShow can discover people's opinion about the movie. Youtube can also analyze and understand peoples viewpoints on a video.]\n",
              "Index: []"
            ]
          },
          "metadata": {
            "tags": []
          },
          "execution_count": 10
        }
      ]
    },
    {
      "cell_type": "markdown",
      "metadata": {
        "id": "CFwt6jSE6E4y"
      },
      "source": [
        "converting the data frame to text"
      ]
    },
    {
      "cell_type": "code",
      "metadata": {
        "colab": {
          "base_uri": "https://localhost:8080/",
          "height": 86
        },
        "id": "WKzm5G3r4bgf",
        "outputId": "2d7ed497-35ad-4dd1-a864-0414d035edcc"
      },
      "source": [
        "text= dataset.to_string()\r\n",
        "text"
      ],
      "execution_count": 4,
      "outputs": [
        {
          "output_type": "execute_result",
          "data": {
            "application/vnd.google.colaboratory.intrinsic+json": {
              "type": "string"
            },
            "text/plain": [
              "\"Empty DataFrame\\nColumns: [Text Analytics has lots of applications in today's online world. By analyzing tweets on Twitter, we can find trending news and peoples reaction on a particular event. Amazon can understand user feedback or review on the specific product. BookMyShow can discover people's opinion about the movie. Youtube can also analyze and understand peoples viewpoints on a video.]\\nIndex: []\""
            ]
          },
          "metadata": {
            "tags": []
          },
          "execution_count": 4
        }
      ]
    },
    {
      "cell_type": "markdown",
      "metadata": {
        "id": "YFTuCNT06Kqk"
      },
      "source": [
        "Breaking the text into sentences "
      ]
    },
    {
      "cell_type": "code",
      "metadata": {
        "colab": {
          "base_uri": "https://localhost:8080/"
        },
        "id": "i534fBAG13Mk",
        "outputId": "35230e6c-d4c1-4f6f-e333-a9ea8a8c4587"
      },
      "source": [
        "tokenized_text = sent_tokenize(text)\r\n",
        "print(tokenized_text)"
      ],
      "execution_count": 5,
      "outputs": [
        {
          "output_type": "stream",
          "text": [
            "[\"Empty DataFrame\\nColumns: [Text Analytics has lots of applications in today's online world.\", 'By analyzing tweets on Twitter, we can find trending news and peoples reaction on a particular event.', 'Amazon can understand user feedback or review on the specific product.', \"BookMyShow can discover people's opinion about the movie.\", 'Youtube can also analyze and understand peoples viewpoints on a video.]', 'Index: []']\n"
          ],
          "name": "stdout"
        }
      ]
    },
    {
      "cell_type": "markdown",
      "metadata": {
        "id": "Dod_LNbU6Qd_"
      },
      "source": [
        "Breaking the text into words "
      ]
    },
    {
      "cell_type": "code",
      "metadata": {
        "colab": {
          "base_uri": "https://localhost:8080/"
        },
        "id": "68mi95936PUV",
        "outputId": "bcac2847-0953-4c51-9a23-12e9a62b242b"
      },
      "source": [
        "tokenized_word=word_tokenize(text)\r\n",
        "print(tokenized_word)\r\n",
        "print(len(tokenized_word))"
      ],
      "execution_count": 6,
      "outputs": [
        {
          "output_type": "stream",
          "text": [
            "['Empty', 'DataFrame', 'Columns', ':', '[', 'Text', 'Analytics', 'has', 'lots', 'of', 'applications', 'in', 'today', \"'s\", 'online', 'world', '.', 'By', 'analyzing', 'tweets', 'on', 'Twitter', ',', 'we', 'can', 'find', 'trending', 'news', 'and', 'peoples', 'reaction', 'on', 'a', 'particular', 'event', '.', 'Amazon', 'can', 'understand', 'user', 'feedback', 'or', 'review', 'on', 'the', 'specific', 'product', '.', 'BookMyShow', 'can', 'discover', 'people', \"'s\", 'opinion', 'about', 'the', 'movie', '.', 'Youtube', 'can', 'also', 'analyze', 'and', 'understand', 'peoples', 'viewpoints', 'on', 'a', 'video', '.', ']', 'Index', ':', '[', ']']\n",
            "75\n"
          ],
          "name": "stdout"
        }
      ]
    },
    {
      "cell_type": "markdown",
      "metadata": {
        "id": "yE_HQcpr7PEu"
      },
      "source": [
        "finding the frequencies distribution"
      ]
    },
    {
      "cell_type": "code",
      "metadata": {
        "colab": {
          "base_uri": "https://localhost:8080/"
        },
        "id": "9r09oSPY6fC-",
        "outputId": "b3dd42f7-a585-4025-bbac-ab8ef202f880"
      },
      "source": [
        "fdist = FreqDist(tokenized_word)\r\n",
        "print(fdist)"
      ],
      "execution_count": 38,
      "outputs": [
        {
          "output_type": "stream",
          "text": [
            "<FreqDist with 56 samples and 75 outcomes>\n"
          ],
          "name": "stdout"
        }
      ]
    },
    {
      "cell_type": "markdown",
      "metadata": {
        "id": "siGMa60N7ZhI"
      },
      "source": [
        "Finding the two most common words  "
      ]
    },
    {
      "cell_type": "code",
      "metadata": {
        "colab": {
          "base_uri": "https://localhost:8080/"
        },
        "id": "tJ5Mj1zL6vIZ",
        "outputId": "bf547950-a0bf-4063-b949-8b9e129858a1"
      },
      "source": [
        "fdist.most_common(2)"
      ],
      "execution_count": 8,
      "outputs": [
        {
          "output_type": "execute_result",
          "data": {
            "text/plain": [
              "[('.', 5), ('on', 4)]"
            ]
          },
          "metadata": {
            "tags": []
          },
          "execution_count": 8
        }
      ]
    },
    {
      "cell_type": "markdown",
      "metadata": {
        "id": "YeWR1zlE7jEZ"
      },
      "source": [
        "Plot of the frequencies distribution"
      ]
    },
    {
      "cell_type": "code",
      "metadata": {
        "colab": {
          "base_uri": "https://localhost:8080/",
          "height": 335
        },
        "id": "oKnk9yMp6yEj",
        "outputId": "21454838-5e74-418a-a5aa-2625536669cd"
      },
      "source": [
        "v=fdist.plot(75,cumulative=False)\r\n",
        "plt.show()"
      ],
      "execution_count": 9,
      "outputs": [
        {
          "output_type": "display_data",
          "data": {
            "image/png": "[encoded data removed]",
            "text/plain": [
              "<Figure size 432x288 with 1 Axes>"
            ]
          },
          "metadata": {
            "tags": [],
            "needs_background": "light"
          }
        }
      ]
    },
    {
      "cell_type": "markdown",
      "metadata": {
        "id": "ee_2ByFqEd1y"
      },
      "source": [
        "POS Tagging Words"
      ]
    },
    {
      "cell_type": "code",
      "metadata": {
        "colab": {
          "base_uri": "https://localhost:8080/"
        },
        "id": "57dQ8nZ7Eg0L",
        "outputId": "690cc088-f497-4f17-d79d-2869786a1aca"
      },
      "source": [
        "tagged = nltk.pos_tag(tokenized_word)\r\n",
        "tagged[1:10]"
      ],
      "execution_count": 14,
      "outputs": [
        {
          "output_type": "execute_result",
          "data": {
            "text/plain": [
              "[('DataFrame', 'NNP'),\n",
              " ('Columns', 'NNP'),\n",
              " (':', ':'),\n",
              " ('[', 'JJ'),\n",
              " ('Text', 'NNP'),\n",
              " ('Analytics', 'NNP'),\n",
              " ('has', 'VBZ'),\n",
              " ('lots', 'NNS'),\n",
              " ('of', 'IN')]"
            ]
          },
          "metadata": {
            "tags": []
          },
          "execution_count": 14
        }
      ]
    },
    {
      "cell_type": "markdown",
      "metadata": {
        "id": "-2YdTj_mHaWk"
      },
      "source": [
        "Tabulate shows frequency distribution in table"
      ]
    },
    {
      "cell_type": "code",
      "metadata": {
        "colab": {
          "base_uri": "https://localhost:8080/"
        },
        "id": "rhmghka2FJpB",
        "outputId": "9889afb8-3cb1-4c14-89ec-4470116cde65"
      },
      "source": [
        "fdist = FreqDist(tokenized_word)\r\n",
        "fdist.tabulate()"
      ],
      "execution_count": 20,
      "outputs": [
        {
          "output_type": "stream",
          "text": [
            "           .           on          can            :            [           's          and      peoples            a   understand          the            ]        Empty    DataFrame      Columns         Text    Analytics          has         lots           of applications           in        today       online        world           By    analyzing       tweets      Twitter            ,           we         find     trending         news     reaction   particular        event       Amazon         user     feedback           or       review     specific      product   BookMyShow     discover       people      opinion        about        movie      Youtube         also      analyze   viewpoints        video        Index \n",
            "           5            4            4            2            2            2            2            2            2            2            2            2            1            1            1            1            1            1            1            1            1            1            1            1            1            1            1            1            1            1            1            1            1            1            1            1            1            1            1            1            1            1            1            1            1            1            1            1            1            1            1            1            1            1            1            1 \n"
          ],
          "name": "stdout"
        }
      ]
    },
    {
      "cell_type": "markdown",
      "metadata": {
        "id": "WohNLkMjHvMM"
      },
      "source": [
        "Freq distributions of nouns, verbs, conjuctures and many more"
      ]
    },
    {
      "cell_type": "code",
      "metadata": {
        "colab": {
          "base_uri": "https://localhost:8080/",
          "height": 554
        },
        "id": "MoIB36y1HxmJ",
        "outputId": "6dd694cb-d5ec-4cde-83d3-af07fc09122f"
      },
      "source": [
        "pos_freq_dist={}\r\n",
        "for i in tagged:\r\n",
        "  if i[1] not in pos_freq_dist.keys():\r\n",
        "    pos_freq_dist[i[1]]=1\r\n",
        "  else: \r\n",
        "    pos_freq_dist[i[1]]+=1\r\n",
        "\r\n",
        "\r\n",
        "plt.plot(*zip(*sorted(pos_freq_dist.items())))\r\n",
        "plt.show()\r\n",
        "\r\n",
        "pos_freq_dist"
      ],
      "execution_count": 45,
      "outputs": [
        {
          "output_type": "execute_result",
          "data": {
            "text/plain": [
              "{',': 1,\n",
              " '.': 5,\n",
              " ':': 2,\n",
              " 'CC': 3,\n",
              " 'DT': 4,\n",
              " 'IN': 8,\n",
              " 'JJ': 7,\n",
              " 'MD': 4,\n",
              " 'NN': 15,\n",
              " 'NNP': 8,\n",
              " 'NNS': 7,\n",
              " 'POS': 2,\n",
              " 'PRP': 1,\n",
              " 'RB': 1,\n",
              " 'VB': 5,\n",
              " 'VBG': 1,\n",
              " 'VBZ': 1}"
            ]
          },
          "metadata": {
            "tags": []
          },
          "execution_count": 45
        },
        {
          "output_type": "display_data",
          "data": {
            "image/png": "[encoded data removed]",
            "text/plain": [
              "<Figure size 432x288 with 1 Axes>"
            ]
          },
          "metadata": {
            "tags": [],
            "needs_background": "light"
          }
        }
      ]
    }
  ]
}