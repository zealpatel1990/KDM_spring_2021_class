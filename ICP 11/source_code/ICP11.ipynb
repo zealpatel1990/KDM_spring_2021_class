{
  "nbformat": 4,
  "nbformat_minor": 0,
  "metadata": {
    "colab": {
      "name": "ICP11.ipynb",
      "provenance": []
    },
    "kernelspec": {
      "name": "python3",
      "display_name": "Python 3"
    },
    "language_info": {
      "name": "python"
    },
    "accelerator": "GPU"
  },
  "cells": [
    {
      "cell_type": "markdown",
      "metadata": {
        "id": "-jFFRbCqzRY8"
      },
      "source": [
        "In this ICP we will build 2 feed forward network.\n",
        "\n",
        ">Auto Encoder\n",
        "\n",
        ">CNN\n",
        "\n",
        ">Data Set\n",
        "\n",
        ">>The MNIST database of handwritten digits. Training set of 60,000 examples, and a test set of 10,000 examples\n"
      ]
    },
    {
      "cell_type": "markdown",
      "metadata": {
        "id": "XGzIpl7P0U6_"
      },
      "source": [
        "Auto Encoders:\n",
        "\n",
        ">>Data compression is a big topic that’s used in computer vision, computer networks, computer architecture, and many other fields.The point of data compression is to convert our input into a smaller representation that we recreate, to a degree of quality. This smaller representation is what would be passed around, and, when anyone needed the original, they would reconstruct it from the smaller representation.Autoencoders are unsupervised neural networks that use machine learning to do this compression \n"
      ]
    },
    {
      "cell_type": "code",
      "metadata": {
        "id": "r9_cWbPki6tv"
      },
      "source": [
        "from keras.layers import Input, Dense\n",
        "from keras.models import Model\n",
        "from keras.datasets import mnist\n",
        " \n",
        "import numpy as np\n",
        "import matplotlib.pyplot as plt\n",
        "\n"
      ],
      "execution_count": 1,
      "outputs": []
    },
    {
      "cell_type": "markdown",
      "metadata": {
        "id": "fZMxXfcA0wIW"
      },
      "source": [
        "Load  MNIST handwritten digits dataset.\n",
        "\n",
        "There is no need to load labels because autoencoders are unsupervised.\n",
        "\n",
        "Rescale our images from 0 – 255 to 0 – 1 and flatten them out.\n"
      ]
    },
    {
      "cell_type": "code",
      "metadata": {
        "id": "-z3fLLrtjO1X"
      },
      "source": [
        "#Notice that we’re not loading any of the labels because autoencoders are unsupervised\n",
        "(X_train, _), (X_test, _) = mnist.load_data()\n",
        "# rescale our images from 0 – 255 to 0 – 1 and flatten them out.\n",
        "X_train = X_train.astype('float32') / 255.\n",
        "X_test = X_test.astype('float32') / 255.\n",
        "X_train = X_train.reshape((X_train.shape[0], -1))\n",
        "X_test = X_test.reshape((X_test.shape[0], -1))"
      ],
      "execution_count": 2,
      "outputs": []
    },
    {
      "cell_type": "code",
      "metadata": {
        "colab": {
          "base_uri": "https://localhost:8080/"
        },
        "id": "MceFF_0BjO9O",
        "outputId": "8232cf7a-2f67-4d4e-d79e-fd03ca87e164"
      },
      "source": [
        "X_train.shape"
      ],
      "execution_count": 3,
      "outputs": [
        {
          "output_type": "execute_result",
          "data": {
            "text/plain": [
              "(60000, 784)"
            ]
          },
          "metadata": {
            "tags": []
          },
          "execution_count": 3
        }
      ]
    },
    {
      "cell_type": "code",
      "metadata": {
        "colab": {
          "base_uri": "https://localhost:8080/"
        },
        "id": "BupxtkW-jPDk",
        "outputId": "b85e2ff0-f6cc-452d-c9c2-69504cb10ad9"
      },
      "source": [
        "X_test.shape"
      ],
      "execution_count": 4,
      "outputs": [
        {
          "output_type": "execute_result",
          "data": {
            "text/plain": [
              "(10000, 784)"
            ]
          },
          "metadata": {
            "tags": []
          },
          "execution_count": 4
        }
      ]
    },
    {
      "cell_type": "code",
      "metadata": {
        "id": "4tzUyrr7rBUg"
      },
      "source": [
        "INPUT_SIZE = 784\n",
        "ENCODING_SIZE = 64"
      ],
      "execution_count": 5,
      "outputs": []
    },
    {
      "cell_type": "markdown",
      "metadata": {
        "id": "-h3DN2WW1Hjn"
      },
      "source": [
        "Create autoencoder\n",
        "\t\n",
        "Use ReLU  activation functions \n",
        "\n",
        "create constants for our input size and our encoding size. \n",
        "\n",
        "reduce our input from 784 -> 512 -> 256 -> 128 -> 64, encoder path\n",
        "\n",
        "then expand it back up 64 -> 128 -> 256 -> 512 -> 784, decoder path\n"
      ]
    },
    {
      "cell_type": "code",
      "metadata": {
        "id": "oacp6YGKjhtR"
      },
      "source": [
        "#reduce our input from 784 -> 512 -> 256 -> 128 -> 64 (encoder path), then expand it back up 64 -> 128 -> 256 -> 512 -> 784(decoder path).\n",
        "# Also notice the relu activation function\n",
        "input_img = Input(shape=(INPUT_SIZE,))\n",
        "encoded = Dense(512, activation='relu')(input_img)\n",
        "encoded = Dense(256, activation='relu')(encoded)\n",
        "encoded = Dense(128, activation='relu')(encoded)\n",
        "encoded = Dense(ENCODING_SIZE, activation='relu')(encoded)"
      ],
      "execution_count": 6,
      "outputs": []
    },
    {
      "cell_type": "code",
      "metadata": {
        "id": "MSF9HPsAj2ns"
      },
      "source": [
        "decoded = Dense(128, activation='relu')(encoded)\n",
        "decoded = Dense(256, activation='relu')(decoded)\n",
        "decoded = Dense(512, activation='relu')(decoded)\n",
        "decoded = Dense(INPUT_SIZE, activation='relu')(decoded)\n"
      ],
      "execution_count": 7,
      "outputs": []
    },
    {
      "cell_type": "code",
      "metadata": {
        "id": "1tMXFCw5j9lB"
      },
      "source": [
        "autoencoder = Model(input_img, decoded)"
      ],
      "execution_count": 8,
      "outputs": []
    },
    {
      "cell_type": "markdown",
      "metadata": {
        "id": "2awwn1Hw11C-"
      },
      "source": [
        "Training the model and then making the prediction \n",
        "\n",
        "Build and train the model.\n",
        "\n",
        "Use the ADAM optimizer and mean squared error loss (the Euclidean distance/loss) between the input and reconstruction\n",
        "\n",
        "encode and decode the test set to see how well model is performing\n",
        "\n"
      ]
    },
    {
      "cell_type": "code",
      "metadata": {
        "colab": {
          "base_uri": "https://localhost:8080/"
        },
        "id": "jZ0OekOij_hR",
        "outputId": "042d94c9-4abb-4ec0-9c1e-8dc64af85867"
      },
      "source": [
        "#using ADAM optimizer and mean squared error loss (the Euclidean distance/loss) between the input and reconstruction\n",
        "autoencoder.compile(optimizer='adam', loss='mean_squared_error',)\n",
        "autoencoder.fit(X_train, X_train, epochs=50, batch_size=256, shuffle=True, validation_split=0.2)"
      ],
      "execution_count": 9,
      "outputs": [
        {
          "output_type": "stream",
          "text": [
            "Epoch 1/50\n",
            "188/188 [==============================] - 2s 6ms/step - loss: 0.0559 - val_loss: 0.0206\n",
            "Epoch 2/50\n",
            "188/188 [==============================] - 1s 4ms/step - loss: 0.0189 - val_loss: 0.0151\n",
            "Epoch 3/50\n",
            "188/188 [==============================] - 1s 4ms/step - loss: 0.0146 - val_loss: 0.0132\n",
            "Epoch 4/50\n",
            "188/188 [==============================] - 1s 4ms/step - loss: 0.0128 - val_loss: 0.0120\n",
            "Epoch 5/50\n",
            "188/188 [==============================] - 1s 4ms/step - loss: 0.0118 - val_loss: 0.0114\n",
            "Epoch 6/50\n",
            "188/188 [==============================] - 1s 4ms/step - loss: 0.0110 - val_loss: 0.0108\n",
            "Epoch 7/50\n",
            "188/188 [==============================] - 1s 4ms/step - loss: 0.0105 - val_loss: 0.0103\n",
            "Epoch 8/50\n",
            "188/188 [==============================] - 1s 4ms/step - loss: 0.0100 - val_loss: 0.0101\n",
            "Epoch 9/50\n",
            "188/188 [==============================] - 1s 4ms/step - loss: 0.0096 - val_loss: 0.0099\n",
            "Epoch 10/50\n",
            "188/188 [==============================] - 1s 4ms/step - loss: 0.0094 - val_loss: 0.0095\n",
            "Epoch 11/50\n",
            "188/188 [==============================] - 1s 4ms/step - loss: 0.0091 - val_loss: 0.0091\n",
            "Epoch 12/50\n",
            "188/188 [==============================] - 1s 4ms/step - loss: 0.0089 - val_loss: 0.0091\n",
            "Epoch 13/50\n",
            "188/188 [==============================] - 1s 4ms/step - loss: 0.0087 - val_loss: 0.0088\n",
            "Epoch 14/50\n",
            "188/188 [==============================] - 1s 4ms/step - loss: 0.0086 - val_loss: 0.0089\n",
            "Epoch 15/50\n",
            "188/188 [==============================] - 1s 4ms/step - loss: 0.0084 - val_loss: 0.0086\n",
            "Epoch 16/50\n",
            "188/188 [==============================] - 1s 4ms/step - loss: 0.0083 - val_loss: 0.0084\n",
            "Epoch 17/50\n",
            "188/188 [==============================] - 1s 4ms/step - loss: 0.0082 - val_loss: 0.0084\n",
            "Epoch 18/50\n",
            "188/188 [==============================] - 1s 4ms/step - loss: 0.0081 - val_loss: 0.0083\n",
            "Epoch 19/50\n",
            "188/188 [==============================] - 1s 4ms/step - loss: 0.0080 - val_loss: 0.0082\n",
            "Epoch 20/50\n",
            "188/188 [==============================] - 1s 4ms/step - loss: 0.0079 - val_loss: 0.0082\n",
            "Epoch 21/50\n",
            "188/188 [==============================] - 1s 4ms/step - loss: 0.0078 - val_loss: 0.0079\n",
            "Epoch 22/50\n",
            "188/188 [==============================] - 1s 4ms/step - loss: 0.0077 - val_loss: 0.0082\n",
            "Epoch 23/50\n",
            "188/188 [==============================] - 1s 4ms/step - loss: 0.0076 - val_loss: 0.0079\n",
            "Epoch 24/50\n",
            "188/188 [==============================] - 1s 4ms/step - loss: 0.0075 - val_loss: 0.0078\n",
            "Epoch 25/50\n",
            "188/188 [==============================] - 1s 4ms/step - loss: 0.0075 - val_loss: 0.0078\n",
            "Epoch 26/50\n",
            "188/188 [==============================] - 1s 4ms/step - loss: 0.0074 - val_loss: 0.0076\n",
            "Epoch 27/50\n",
            "188/188 [==============================] - 1s 4ms/step - loss: 0.0074 - val_loss: 0.0078\n",
            "Epoch 28/50\n",
            "188/188 [==============================] - 1s 4ms/step - loss: 0.0073 - val_loss: 0.0075\n",
            "Epoch 29/50\n",
            "188/188 [==============================] - 1s 4ms/step - loss: 0.0073 - val_loss: 0.0075\n",
            "Epoch 30/50\n",
            "188/188 [==============================] - 1s 4ms/step - loss: 0.0072 - val_loss: 0.0076\n",
            "Epoch 31/50\n",
            "188/188 [==============================] - 1s 4ms/step - loss: 0.0072 - val_loss: 0.0074\n",
            "Epoch 32/50\n",
            "188/188 [==============================] - 1s 4ms/step - loss: 0.0070 - val_loss: 0.0076\n",
            "Epoch 33/50\n",
            "188/188 [==============================] - 1s 4ms/step - loss: 0.0071 - val_loss: 0.0073\n",
            "Epoch 34/50\n",
            "188/188 [==============================] - 1s 4ms/step - loss: 0.0070 - val_loss: 0.0074\n",
            "Epoch 35/50\n",
            "188/188 [==============================] - 1s 4ms/step - loss: 0.0070 - val_loss: 0.0071\n",
            "Epoch 36/50\n",
            "188/188 [==============================] - 1s 4ms/step - loss: 0.0069 - val_loss: 0.0073\n",
            "Epoch 37/50\n",
            "188/188 [==============================] - 1s 4ms/step - loss: 0.0069 - val_loss: 0.0073\n",
            "Epoch 38/50\n",
            "188/188 [==============================] - 1s 4ms/step - loss: 0.0069 - val_loss: 0.0072\n",
            "Epoch 39/50\n",
            "188/188 [==============================] - 1s 4ms/step - loss: 0.0069 - val_loss: 0.0071\n",
            "Epoch 40/50\n",
            "188/188 [==============================] - 1s 4ms/step - loss: 0.0068 - val_loss: 0.0074\n",
            "Epoch 41/50\n",
            "188/188 [==============================] - 1s 4ms/step - loss: 0.0068 - val_loss: 0.0072\n",
            "Epoch 42/50\n",
            "188/188 [==============================] - 1s 4ms/step - loss: 0.0067 - val_loss: 0.0070\n",
            "Epoch 43/50\n",
            "188/188 [==============================] - 1s 4ms/step - loss: 0.0067 - val_loss: 0.0071\n",
            "Epoch 44/50\n",
            "188/188 [==============================] - 1s 4ms/step - loss: 0.0067 - val_loss: 0.0070\n",
            "Epoch 45/50\n",
            "188/188 [==============================] - 1s 4ms/step - loss: 0.0067 - val_loss: 0.0070\n",
            "Epoch 46/50\n",
            "188/188 [==============================] - 1s 4ms/step - loss: 0.0066 - val_loss: 0.0069\n",
            "Epoch 47/50\n",
            "188/188 [==============================] - 1s 4ms/step - loss: 0.0066 - val_loss: 0.0068\n",
            "Epoch 48/50\n",
            "188/188 [==============================] - 1s 4ms/step - loss: 0.0065 - val_loss: 0.0069\n",
            "Epoch 49/50\n",
            "188/188 [==============================] - 1s 4ms/step - loss: 0.0065 - val_loss: 0.0068\n",
            "Epoch 50/50\n",
            "188/188 [==============================] - 1s 4ms/step - loss: 0.0064 - val_loss: 0.0068\n"
          ],
          "name": "stdout"
        },
        {
          "output_type": "execute_result",
          "data": {
            "text/plain": [
              "<tensorflow.python.keras.callbacks.History at 0x7f6150243d50>"
            ]
          },
          "metadata": {
            "tags": []
          },
          "execution_count": 9
        }
      ]
    },
    {
      "cell_type": "code",
      "metadata": {
        "id": "SmLdgFuLkHLE"
      },
      "source": [
        "#After our autoencoder has trained, we can try to encode and decode the test set to see how well our autoencoder can compress\n",
        "decoded_imgs = autoencoder.predict(X_test)"
      ],
      "execution_count": 10,
      "outputs": []
    },
    {
      "cell_type": "markdown",
      "metadata": {
        "id": "l9AV9WA32DO4"
      },
      "source": [
        "Visvualize the results "
      ]
    },
    {
      "cell_type": "code",
      "metadata": {
        "colab": {
          "base_uri": "https://localhost:8080/",
          "height": 317
        },
        "id": "4QGe9UvVu2gL",
        "outputId": "5810f9d2-e409-4a09-e984-a392c8278419"
      },
      "source": [
        "\n",
        "plt.figure(figsize=(20, 4))\n",
        "for i in range(10):\n",
        "    # original\n",
        "    plt.subplot(2, 10, i + 1)\n",
        "    plt.imshow(X_test[i].reshape(28, 28))\n",
        "    plt.gray()\n",
        "    plt.axis('off')\n",
        " \n",
        "    # reconstruction\n",
        "    plt.subplot(2, 10, i + 1 + 10)\n",
        "    plt.imshow(decoded_imgs[i].reshape(28, 28))\n",
        "    plt.gray()\n",
        "    plt.axis('off')\n",
        " \n",
        "plt.tight_layout()\n",
        "plt.show()"
      ],
      "execution_count": 11,
      "outputs": [
        {
          "output_type": "display_data",
          "data": {
            "image/png": "[encoded data removed]",
            "text/plain": [
              "<Figure size 1440x288 with 20 Axes>"
            ]
          },
          "metadata": {
            "tags": [],
            "needs_background": "light"
          }
        }
      ]
    },
    {
      "cell_type": "markdown",
      "metadata": {
        "id": "qPuU-xlr2IQi"
      },
      "source": [
        "CNN \n",
        "\n",
        "The Problem: MNIST digit classification\n",
        "\t\n",
        "We’re going to tackle a classic introductory Computer Vision problem: MNIST handwritten digit classification. It’s simple: given an image, classify it as a digit\n",
        "\t\n",
        "Each image in the MNIST dataset is 28x28 and contains a centered, grayscale digit. Our CNN will take an image and output one of 10 possible classes (one for each digit)\n",
        "\n",
        "First of all,  import all necessary packages\n",
        "\n"
      ]
    },
    {
      "cell_type": "code",
      "metadata": {
        "id": "FAcah1drwp5F"
      },
      "source": [
        "import numpy as np\n",
        "import tensorflow as tf\n",
        "from keras.datasets import mnist\n",
        "from keras.models import Sequential\n",
        "from keras.layers import Conv2D, MaxPooling2D, Dense, Flatten\n",
        "from keras.utils import to_categorical"
      ],
      "execution_count": 1,
      "outputs": []
    },
    {
      "cell_type": "code",
      "metadata": {
        "colab": {
          "base_uri": "https://localhost:8080/"
        },
        "id": "G8wNQ_5JwrbI",
        "outputId": "3a0e9dcd-d549-4651-d606-af9c408faa1e"
      },
      "source": [
        "(train_images, train_labels), (test_images, test_labels) = mnist.load_data()"
      ],
      "execution_count": 2,
      "outputs": [
        {
          "output_type": "stream",
          "text": [
            "Downloading data from https://storage.googleapis.com/tensorflow/tf-keras-datasets/mnist.npz\n",
            "11493376/11490434 [==============================] - 0s 0us/step\n"
          ],
          "name": "stdout"
        }
      ]
    },
    {
      "cell_type": "markdown",
      "metadata": {
        "id": "2sT7ApeR2u4I"
      },
      "source": [
        "Before we begin, we’ll normalize the image pixel values from [0, 255] to [-0.5, 0.5]\n",
        "\t \n",
        "This will  make our network easier to train (using smaller, centered values usually leads to better results). \n",
        "\n",
        "We’ll also reshape each image from (28, 28) to (28, 28, 1) because Keras requires the third dimension. (1 stands for color scheme, which is grey scale in this case). \n",
        "\n"
      ]
    },
    {
      "cell_type": "code",
      "metadata": {
        "id": "5fvE-hRywrlV"
      },
      "source": [
        "# Normalize the images.\n",
        "train_images = (train_images / 255) - 0.5\n",
        "test_images = (test_images / 255) - 0.5"
      ],
      "execution_count": 3,
      "outputs": []
    },
    {
      "cell_type": "code",
      "metadata": {
        "id": "Xcah0Yovwro7"
      },
      "source": [
        "# Reshape the images.\n",
        "train_images = np.expand_dims(train_images, axis=3)\n",
        "test_images = np.expand_dims(test_images, axis=3)"
      ],
      "execution_count": 4,
      "outputs": []
    },
    {
      "cell_type": "markdown",
      "metadata": {
        "id": "73nP9Kv73IJt"
      },
      "source": [
        "Keras model is either built using the Sequential class, which represents a linear stack of layers, or the functional Model class, which is more customizable. \n",
        "\n",
        "We’ll be using the simpler Sequential model, since our CNN will be a linear stack of layers.\n",
        "\n",
        "num_filters, filter_size, and pool_size are self-explanatory variables that set the hyperparameters for our CNN.\n",
        "\n",
        "The first layer in any Sequential model must specify the input_shape, so we do so on Conv2D. \n",
        "\n",
        "Once this input shape is specified, Keras will automatically infer the shapes of inputs for later layers.\n",
        "\t\n",
        "The output Softmax layer has 10 nodes, one for each class\n",
        "\n",
        "\n"
      ]
    },
    {
      "cell_type": "code",
      "metadata": {
        "id": "soSpyDp6wrr4"
      },
      "source": [
        "\n",
        "num_filters = 8\n",
        "filter_size = 3\n",
        "pool_size = 2"
      ],
      "execution_count": 5,
      "outputs": []
    },
    {
      "cell_type": "code",
      "metadata": {
        "id": "2CpLEcMKw-CZ"
      },
      "source": [
        "# Build the model.\n",
        "model = Sequential([\n",
        "  Conv2D(num_filters, filter_size, input_shape=(28, 28, 1)),\n",
        "  MaxPooling2D(pool_size=pool_size),\n",
        "  Flatten(),\n",
        "  Dense(10, activation='softmax'),\n",
        "])"
      ],
      "execution_count": 6,
      "outputs": []
    },
    {
      "cell_type": "markdown",
      "metadata": {
        "id": "SkwwUCKQ4M7U"
      },
      "source": [
        "Before we can begin training, we need to configure the training process. We decide 3 key factors during the compilation step:\n",
        "\t\n",
        "The optimizer. We’ll stick with a pretty good default: the Adam gradient-based optimizer. Keras has many other optimizers you can look into as well.\n",
        "\n",
        "The loss function. Since we’re using a Softmax output layer, we’ll use the Cross-Entropy loss. Keras distinguishes between binary_crossentropy (2 classes) and categorical_crossentropy (>2 classes), so we’ll use the latter. \n",
        "\n",
        "A list of metrics. Since this is a classification problem, we’ll just have Keras report on the accuracy metric.\n",
        "\n"
      ]
    },
    {
      "cell_type": "code",
      "metadata": {
        "id": "uhflsBSvw-GX"
      },
      "source": [
        "# Compile the model.\n",
        "model.compile(\n",
        "  'adam',\n",
        "  loss='categorical_crossentropy',\n",
        "  metrics=['accuracy'],\n",
        ")"
      ],
      "execution_count": 7,
      "outputs": []
    },
    {
      "cell_type": "markdown",
      "metadata": {
        "id": "SVGOn2AX41Ub"
      },
      "source": [
        "Training a model in Keras literally consists only of calling fit() and specifying some parameters. There are a lot of possible parameters, but we’ll only supply these:\n",
        "\n",
        "The training data (images and labels), commonly known as X and Y, respectively.\n",
        "\n",
        "The number of epochs (iterations over the entire dataset) to train for.\n",
        "\n",
        "The validation data (or test data), which is used during training to periodically measure the network’s performance against data it hasn’t seen before.\n",
        "\n",
        "There’s one thing we have to be careful about:\n",
        "\n",
        "Keras expects the training targets to be 10-dimensional vectors, since there are 10 nodes in our Softmax output layer. Right now, our train_labels and test_labels arrays contain single integers representing the class for each image\n",
        "\n",
        "Conveniently, Keras has a utility method that fixes this exact issue:\n",
        "to_categorical: It turns our array of class integers into an array of one-hot vectors instead. For example, 2 would become [0, 0, 1, 0, 0, 0, 0, 0, 0, 0] (it’s zero-indexed)\n",
        "\n",
        "\n",
        "\n"
      ]
    },
    {
      "cell_type": "code",
      "metadata": {
        "colab": {
          "base_uri": "https://localhost:8080/"
        },
        "id": "srpkxU0_w-JR",
        "outputId": "1a22232e-5bbb-493a-c069-fbfc45498a7d"
      },
      "source": [
        "# Train the model.\n",
        "model.fit(\n",
        "  train_images,\n",
        "  to_categorical(train_labels),\n",
        "  epochs=30,\n",
        "  validation_data=(test_images, to_categorical(test_labels)),\n",
        ")"
      ],
      "execution_count": 8,
      "outputs": [
        {
          "output_type": "stream",
          "text": [
            "Epoch 1/30\n",
            "1875/1875 [==============================] - 21s 11ms/step - loss: 0.5890 - accuracy: 0.8322 - val_loss: 0.2157 - val_accuracy: 0.9394\n",
            "Epoch 2/30\n",
            "1875/1875 [==============================] - 20s 11ms/step - loss: 0.2037 - accuracy: 0.9405 - val_loss: 0.1497 - val_accuracy: 0.9570\n",
            "Epoch 3/30\n",
            "1875/1875 [==============================] - 20s 10ms/step - loss: 0.1387 - accuracy: 0.9597 - val_loss: 0.1113 - val_accuracy: 0.9673\n",
            "Epoch 4/30\n",
            "1875/1875 [==============================] - 19s 10ms/step - loss: 0.1092 - accuracy: 0.9679 - val_loss: 0.1059 - val_accuracy: 0.9675\n",
            "Epoch 5/30\n",
            "1875/1875 [==============================] - 19s 10ms/step - loss: 0.0939 - accuracy: 0.9719 - val_loss: 0.0898 - val_accuracy: 0.9718\n",
            "Epoch 6/30\n",
            "1875/1875 [==============================] - 20s 11ms/step - loss: 0.0787 - accuracy: 0.9768 - val_loss: 0.0875 - val_accuracy: 0.9710\n",
            "Epoch 7/30\n",
            "1875/1875 [==============================] - 19s 10ms/step - loss: 0.0729 - accuracy: 0.9778 - val_loss: 0.0834 - val_accuracy: 0.9745\n",
            "Epoch 8/30\n",
            "1875/1875 [==============================] - 20s 11ms/step - loss: 0.0690 - accuracy: 0.9790 - val_loss: 0.0800 - val_accuracy: 0.9741\n",
            "Epoch 9/30\n",
            "1875/1875 [==============================] - 19s 10ms/step - loss: 0.0622 - accuracy: 0.9818 - val_loss: 0.0798 - val_accuracy: 0.9736\n",
            "Epoch 10/30\n",
            "1875/1875 [==============================] - 19s 10ms/step - loss: 0.0566 - accuracy: 0.9829 - val_loss: 0.0769 - val_accuracy: 0.9753\n",
            "Epoch 11/30\n",
            "1875/1875 [==============================] - 19s 10ms/step - loss: 0.0534 - accuracy: 0.9844 - val_loss: 0.0831 - val_accuracy: 0.9731\n",
            "Epoch 12/30\n",
            "1875/1875 [==============================] - 19s 10ms/step - loss: 0.0494 - accuracy: 0.9853 - val_loss: 0.0785 - val_accuracy: 0.9760\n",
            "Epoch 13/30\n",
            "1875/1875 [==============================] - 19s 10ms/step - loss: 0.0467 - accuracy: 0.9856 - val_loss: 0.0818 - val_accuracy: 0.9750\n",
            "Epoch 14/30\n",
            "1875/1875 [==============================] - 20s 11ms/step - loss: 0.0469 - accuracy: 0.9860 - val_loss: 0.0842 - val_accuracy: 0.9743\n",
            "Epoch 15/30\n",
            "1875/1875 [==============================] - 19s 10ms/step - loss: 0.0416 - accuracy: 0.9872 - val_loss: 0.0803 - val_accuracy: 0.9756\n",
            "Epoch 16/30\n",
            "1875/1875 [==============================] - 20s 11ms/step - loss: 0.0400 - accuracy: 0.9872 - val_loss: 0.0769 - val_accuracy: 0.9761\n",
            "Epoch 17/30\n",
            "1875/1875 [==============================] - 19s 10ms/step - loss: 0.0377 - accuracy: 0.9885 - val_loss: 0.0803 - val_accuracy: 0.9752\n",
            "Epoch 18/30\n",
            "1875/1875 [==============================] - 19s 10ms/step - loss: 0.0375 - accuracy: 0.9882 - val_loss: 0.0879 - val_accuracy: 0.9743\n",
            "Epoch 19/30\n",
            "1875/1875 [==============================] - 19s 10ms/step - loss: 0.0365 - accuracy: 0.9889 - val_loss: 0.0841 - val_accuracy: 0.9761\n",
            "Epoch 20/30\n",
            "1875/1875 [==============================] - 19s 10ms/step - loss: 0.0343 - accuracy: 0.9897 - val_loss: 0.0868 - val_accuracy: 0.9753\n",
            "Epoch 21/30\n",
            "1875/1875 [==============================] - 19s 10ms/step - loss: 0.0354 - accuracy: 0.9897 - val_loss: 0.0877 - val_accuracy: 0.9749\n",
            "Epoch 22/30\n",
            "1875/1875 [==============================] - 19s 10ms/step - loss: 0.0335 - accuracy: 0.9894 - val_loss: 0.0841 - val_accuracy: 0.9752\n",
            "Epoch 23/30\n",
            "1875/1875 [==============================] - 19s 10ms/step - loss: 0.0306 - accuracy: 0.9906 - val_loss: 0.0864 - val_accuracy: 0.9754\n",
            "Epoch 24/30\n",
            "1875/1875 [==============================] - 19s 10ms/step - loss: 0.0304 - accuracy: 0.9909 - val_loss: 0.0895 - val_accuracy: 0.9753\n",
            "Epoch 25/30\n",
            "1875/1875 [==============================] - 19s 10ms/step - loss: 0.0284 - accuracy: 0.9909 - val_loss: 0.0876 - val_accuracy: 0.9761\n",
            "Epoch 26/30\n",
            "1875/1875 [==============================] - 19s 10ms/step - loss: 0.0280 - accuracy: 0.9916 - val_loss: 0.1021 - val_accuracy: 0.9748\n",
            "Epoch 27/30\n",
            "1875/1875 [==============================] - 19s 10ms/step - loss: 0.0254 - accuracy: 0.9923 - val_loss: 0.0944 - val_accuracy: 0.9743\n",
            "Epoch 28/30\n",
            "1875/1875 [==============================] - 19s 10ms/step - loss: 0.0253 - accuracy: 0.9919 - val_loss: 0.0884 - val_accuracy: 0.9754\n",
            "Epoch 29/30\n",
            "1875/1875 [==============================] - 19s 10ms/step - loss: 0.0239 - accuracy: 0.9929 - val_loss: 0.0937 - val_accuracy: 0.9746\n",
            "Epoch 30/30\n",
            "1875/1875 [==============================] - 19s 10ms/step - loss: 0.0234 - accuracy: 0.9933 - val_loss: 0.0931 - val_accuracy: 0.9759\n"
          ],
          "name": "stdout"
        },
        {
          "output_type": "execute_result",
          "data": {
            "text/plain": [
              "<tensorflow.python.keras.callbacks.History at 0x7fdef780cb50>"
            ]
          },
          "metadata": {
            "tags": []
          },
          "execution_count": 8
        }
      ]
    },
    {
      "cell_type": "markdown",
      "metadata": {
        "id": "zcMHM5u65_rF"
      },
      "source": [
        "We pass an array of inputs to predict() and it returns an array of outputs.\n",
        "\n",
        "The output of our network is 10 probabilities (because of softmax), so we’ll use np.argmax() to turn those into actual digits.\n"
      ]
    },
    {
      "cell_type": "code",
      "metadata": {
        "id": "Ganai2kyw-MX"
      },
      "source": [
        "# Predict on the first 5 test images.\n",
        "predictions = model.predict(test_images[:5])"
      ],
      "execution_count": 10,
      "outputs": []
    },
    {
      "cell_type": "code",
      "metadata": {
        "colab": {
          "base_uri": "https://localhost:8080/"
        },
        "id": "WNqIPTlow-Ox",
        "outputId": "efb3c082-b2a8-4292-81a5-d57daafe8691"
      },
      "source": [
        "# Print our model's predictions.\n",
        "print(\"These are the model predictions :\")\n",
        "print(np.argmax(predictions, axis=1)) # [7, 2, 1, 0, 4]\n",
        "print(\"\\n\")"
      ],
      "execution_count": 11,
      "outputs": [
        {
          "output_type": "stream",
          "text": [
            "These are the model predictions :\n",
            "[7 2 1 0 4]\n",
            "\n",
            "\n"
          ],
          "name": "stdout"
        }
      ]
    },
    {
      "cell_type": "code",
      "metadata": {
        "colab": {
          "base_uri": "https://localhost:8080/"
        },
        "id": "8KAZx-dIw-SC",
        "outputId": "0ef8149c-7f83-4b07-9350-877b30a6eb41"
      },
      "source": [
        "# Check our predictions against the ground truths.\n",
        "print(\"These are the corresponding labels :\")\n",
        "print(test_labels[:5]) # [7, 2, 1, 0, 4]"
      ],
      "execution_count": 12,
      "outputs": [
        {
          "output_type": "stream",
          "text": [
            "These are the corresponding labels :\n",
            "[7 2 1 0 4]\n"
          ],
          "name": "stdout"
        }
      ]
    }
  ]
}