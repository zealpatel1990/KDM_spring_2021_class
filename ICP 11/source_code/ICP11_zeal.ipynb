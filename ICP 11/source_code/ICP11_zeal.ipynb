{
  "nbformat": 4,
  "nbformat_minor": 0,
  "metadata": {
    "colab": {
      "name": "ICP11_zeal.ipynb",
      "provenance": [],
      "include_colab_link": true
    },
    "kernelspec": {
      "name": "python3",
      "display_name": "Python 3"
    },
    "language_info": {
      "name": "python"
    },
    "accelerator": "GPU"
  },
  "cells": [
    {
      "cell_type": "markdown",
      "metadata": {
        "id": "view-in-github",
        "colab_type": "text"
      },
      "source": [
        "<a href=\"https://colab.research.google.com/github/zealpatel1990/KDM_spring_2021_class/blob/main/ICP%2011/source_code/ICP11_zeal.ipynb\" target=\"_parent\"><img src=\"https://colab.research.google.com/assets/colab-badge.svg\" alt=\"Open In Colab\"/></a>"
      ]
    },
    {
      "cell_type": "markdown",
      "metadata": {
        "id": "-jFFRbCqzRY8"
      },
      "source": [
        "In this ICP we will build 2 feed forward network.\n",
        "\n",
        ">Auto Encoder\n",
        "\n",
        ">CNN\n",
        "\n",
        ">Data Set\n",
        "\n",
        ">>The MNIST database of handwritten digits. Training set of 60,000 examples, and a test set of 10,000 examples\n"
      ]
    },
    {
      "cell_type": "markdown",
      "metadata": {
        "id": "XGzIpl7P0U6_"
      },
      "source": [
        "Auto Encoders:\n",
        "\n",
        ">>Data compression is a big topic that’s used in computer vision, computer networks, computer architecture, and many other fields.The point of data compression is to convert our input into a smaller representation that we recreate, to a degree of quality. This smaller representation is what would be passed around, and, when anyone needed the original, they would reconstruct it from the smaller representation.Autoencoders are unsupervised neural networks that use machine learning to do this compression \n"
      ]
    },
    {
      "cell_type": "code",
      "metadata": {
        "id": "r9_cWbPki6tv"
      },
      "source": [
        "from keras.layers import Input, Dense\n",
        "from keras.models import Model\n",
        "from keras.datasets import mnist\n",
        "\n",
        "from keras.datasets import cifar10 # using cifar10 data set which consist of 10 classes of images\n",
        "\n",
        "import numpy as np\n",
        "import matplotlib.pyplot as plt\n",
        "\n"
      ],
      "execution_count": 155,
      "outputs": []
    },
    {
      "cell_type": "markdown",
      "metadata": {
        "id": "fZMxXfcA0wIW"
      },
      "source": [
        "Load  MNIST handwritten digits dataset.\n",
        "\n",
        "There is no need to load labels because autoencoders are unsupervised.\n",
        "\n",
        "Rescale our images from 0 – 255 to 0 – 1 and flatten them out.\n"
      ]
    },
    {
      "cell_type": "code",
      "metadata": {
        "id": "-z3fLLrtjO1X"
      },
      "source": [
        "#Notice that we’re not loading any of the labels because autoencoders are unsupervised\n",
        "# (X_train, _), (X_test, _) = mnist.load_data()\n",
        "(X_train, _), (X_test, _) = cifar10.load_data()\n",
        "\n",
        "\n",
        "# rescale our images from 0 – 255 to 0 – 1 and flatten them out.\n",
        "X_train = X_train.astype('float32') / 255.\n",
        "X_test = X_test.astype('float32') / 255.\n",
        "X_train = X_train.reshape((X_train.shape[0], -1))\n",
        "X_test = X_test.reshape((X_test.shape[0], -1))"
      ],
      "execution_count": 156,
      "outputs": []
    },
    {
      "cell_type": "code",
      "metadata": {
        "colab": {
          "base_uri": "https://localhost:8080/"
        },
        "id": "MceFF_0BjO9O",
        "outputId": "0e8aa327-24a6-420f-8e03-d519a21877b3"
      },
      "source": [
        "X_train.shape"
      ],
      "execution_count": 179,
      "outputs": [
        {
          "output_type": "execute_result",
          "data": {
            "text/plain": [
              "(50000, 3072)"
            ]
          },
          "metadata": {
            "tags": []
          },
          "execution_count": 179
        }
      ]
    },
    {
      "cell_type": "code",
      "metadata": {
        "colab": {
          "base_uri": "https://localhost:8080/"
        },
        "id": "BupxtkW-jPDk",
        "outputId": "fea3be98-f564-47d1-d9d7-bffbb90b78b8"
      },
      "source": [
        "X_test.shape"
      ],
      "execution_count": 178,
      "outputs": [
        {
          "output_type": "execute_result",
          "data": {
            "text/plain": [
              "(10000, 3072)"
            ]
          },
          "metadata": {
            "tags": []
          },
          "execution_count": 178
        }
      ]
    },
    {
      "cell_type": "code",
      "metadata": {
        "id": "4tzUyrr7rBUg"
      },
      "source": [
        "INPUT_SIZE = 3072\n",
        "ENCODING_SIZE = 64"
      ],
      "execution_count": 159,
      "outputs": []
    },
    {
      "cell_type": "markdown",
      "metadata": {
        "id": "-h3DN2WW1Hjn"
      },
      "source": [
        "Create autoencoder\n",
        "\t\n",
        "Use ReLU  activation functions \n",
        "\n",
        "create constants for our input size and our encoding size. \n",
        "\n",
        "reduce our input from 784 -> 512 -> 256 -> 128 -> 64, encoder path\n",
        "\n",
        "then expand it back up 64 -> 128 -> 256 -> 512 -> 784, decoder path\n"
      ]
    },
    {
      "cell_type": "code",
      "metadata": {
        "id": "oacp6YGKjhtR"
      },
      "source": [
        "#reduce our input from 3072 -> 1024 -> 512 -> 256 -> 128 -> 64 (encoder path), then expand it back up 64 -> 128 -> 256 -> 512 -> 784(decoder path).\n",
        "# Also notice the relu activation function\n",
        "input_img = Input(shape=(INPUT_SIZE,))\n",
        "encoded = Dense(1024, activation='relu')(input_img)# added one more layer here because this images are bigger\n",
        "encoded = Dense(512, activation='relu')(encoded)\n",
        "encoded = Dense(256, activation='relu')(encoded)\n",
        "encoded = Dense(128, activation='relu')(encoded)\n",
        "encoded = Dense(ENCODING_SIZE, activation='relu')(encoded)"
      ],
      "execution_count": 160,
      "outputs": []
    },
    {
      "cell_type": "code",
      "metadata": {
        "id": "MSF9HPsAj2ns"
      },
      "source": [
        "decoded = Dense(128, activation='relu')(encoded)\n",
        "decoded = Dense(256, activation='relu')(decoded)\n",
        "decoded = Dense(512, activation='relu')(decoded)\n",
        "decoded = Dense(1024, activation='relu')(decoded) # this layer is added to match with encoding\n",
        "decoded = Dense(INPUT_SIZE, activation='relu')(decoded)\n"
      ],
      "execution_count": 161,
      "outputs": []
    },
    {
      "cell_type": "code",
      "metadata": {
        "id": "1tMXFCw5j9lB"
      },
      "source": [
        "autoencoder = Model(input_img, decoded)"
      ],
      "execution_count": 162,
      "outputs": []
    },
    {
      "cell_type": "markdown",
      "metadata": {
        "id": "2awwn1Hw11C-"
      },
      "source": [
        "Training the model and then making the prediction \n",
        "\n",
        "Build and train the model.\n",
        "\n",
        "Use the ADAM optimizer and mean squared error loss (the Euclidean distance/loss) between the input and reconstruction\n",
        "\n",
        "encode and decode the test set to see how well model is performing\n",
        "\n"
      ]
    },
    {
      "cell_type": "code",
      "metadata": {
        "colab": {
          "base_uri": "https://localhost:8080/"
        },
        "id": "jZ0OekOij_hR",
        "outputId": "42a93887-e01c-4af4-f196-da265dc0ea19"
      },
      "source": [
        "#using ADAM optimizer and mean squared error loss (the Euclidean distance/loss) between the input and reconstruction\n",
        "autoencoder.compile(optimizer='adam', loss='mean_squared_error',)\n",
        "autoencoder.fit(X_train, X_train, epochs=50, batch_size=256, shuffle=True, validation_split=0.2)"
      ],
      "execution_count": 180,
      "outputs": [
        {
          "output_type": "stream",
          "text": [
            "Epoch 1/50\n",
            "157/157 [==============================] - 2s 12ms/step - loss: 0.0269 - val_loss: 0.0145\n",
            "Epoch 2/50\n",
            "157/157 [==============================] - 1s 9ms/step - loss: 0.0139 - val_loss: 0.0139\n",
            "Epoch 3/50\n",
            "157/157 [==============================] - 1s 9ms/step - loss: 0.0132 - val_loss: 0.0139\n",
            "Epoch 4/50\n",
            "157/157 [==============================] - 1s 9ms/step - loss: 0.0131 - val_loss: 0.0138\n",
            "Epoch 5/50\n",
            "157/157 [==============================] - 1s 9ms/step - loss: 0.0130 - val_loss: 0.0141\n",
            "Epoch 6/50\n",
            "157/157 [==============================] - 1s 9ms/step - loss: 0.0130 - val_loss: 0.0140\n",
            "Epoch 7/50\n",
            "157/157 [==============================] - 1s 9ms/step - loss: 0.0129 - val_loss: 0.0139\n",
            "Epoch 8/50\n",
            "157/157 [==============================] - 1s 9ms/step - loss: 0.0129 - val_loss: 0.0139\n",
            "Epoch 9/50\n",
            "157/157 [==============================] - 1s 9ms/step - loss: 0.0128 - val_loss: 0.0142\n",
            "Epoch 10/50\n",
            "157/157 [==============================] - 1s 9ms/step - loss: 0.0128 - val_loss: 0.0138\n",
            "Epoch 11/50\n",
            "157/157 [==============================] - 1s 9ms/step - loss: 0.0127 - val_loss: 0.0139\n",
            "Epoch 12/50\n",
            "157/157 [==============================] - 1s 9ms/step - loss: 0.0130 - val_loss: 0.0139\n",
            "Epoch 13/50\n",
            "157/157 [==============================] - 1s 9ms/step - loss: 0.0127 - val_loss: 0.0145\n",
            "Epoch 14/50\n",
            "157/157 [==============================] - 1s 9ms/step - loss: 0.0127 - val_loss: 0.0139\n",
            "Epoch 15/50\n",
            "157/157 [==============================] - 1s 9ms/step - loss: 0.0128 - val_loss: 0.0138\n",
            "Epoch 16/50\n",
            "157/157 [==============================] - 1s 9ms/step - loss: 0.0126 - val_loss: 0.0141\n",
            "Epoch 17/50\n",
            "157/157 [==============================] - 1s 9ms/step - loss: 0.0125 - val_loss: 0.0140\n",
            "Epoch 18/50\n",
            "157/157 [==============================] - 1s 9ms/step - loss: 0.0125 - val_loss: 0.0138\n",
            "Epoch 19/50\n",
            "157/157 [==============================] - 1s 9ms/step - loss: 0.0125 - val_loss: 0.0140\n",
            "Epoch 20/50\n",
            "157/157 [==============================] - 1s 9ms/step - loss: 0.0125 - val_loss: 0.0137\n",
            "Epoch 21/50\n",
            "157/157 [==============================] - 1s 9ms/step - loss: 0.0124 - val_loss: 0.0137\n",
            "Epoch 22/50\n",
            "157/157 [==============================] - 1s 9ms/step - loss: 0.0123 - val_loss: 0.0137\n",
            "Epoch 23/50\n",
            "157/157 [==============================] - 1s 9ms/step - loss: 0.0124 - val_loss: 0.0139\n",
            "Epoch 24/50\n",
            "157/157 [==============================] - 1s 9ms/step - loss: 0.0124 - val_loss: 0.0139\n",
            "Epoch 25/50\n",
            "157/157 [==============================] - 1s 9ms/step - loss: 0.0122 - val_loss: 0.0139\n",
            "Epoch 26/50\n",
            "157/157 [==============================] - 1s 9ms/step - loss: 0.0122 - val_loss: 0.0138\n",
            "Epoch 27/50\n",
            "157/157 [==============================] - 1s 9ms/step - loss: 0.0123 - val_loss: 0.0137\n",
            "Epoch 28/50\n",
            "157/157 [==============================] - 1s 9ms/step - loss: 0.0122 - val_loss: 0.0140\n",
            "Epoch 29/50\n",
            "157/157 [==============================] - 1s 9ms/step - loss: 0.0122 - val_loss: 0.0139\n",
            "Epoch 30/50\n",
            "157/157 [==============================] - 1s 9ms/step - loss: 0.0121 - val_loss: 0.0137\n",
            "Epoch 31/50\n",
            "157/157 [==============================] - 1s 9ms/step - loss: 0.0122 - val_loss: 0.0139\n",
            "Epoch 32/50\n",
            "157/157 [==============================] - 1s 9ms/step - loss: 0.0122 - val_loss: 0.0136\n",
            "Epoch 33/50\n",
            "157/157 [==============================] - 1s 9ms/step - loss: 0.0120 - val_loss: 0.0136\n",
            "Epoch 34/50\n",
            "157/157 [==============================] - 1s 9ms/step - loss: 0.0120 - val_loss: 0.0138\n",
            "Epoch 35/50\n",
            "157/157 [==============================] - 1s 9ms/step - loss: 0.0119 - val_loss: 0.0139\n",
            "Epoch 36/50\n",
            "157/157 [==============================] - 1s 9ms/step - loss: 0.0120 - val_loss: 0.0136\n",
            "Epoch 37/50\n",
            "157/157 [==============================] - 1s 9ms/step - loss: 0.0120 - val_loss: 0.0137\n",
            "Epoch 38/50\n",
            "157/157 [==============================] - 1s 10ms/step - loss: 0.0119 - val_loss: 0.0140\n",
            "Epoch 39/50\n",
            "157/157 [==============================] - 2s 10ms/step - loss: 0.0120 - val_loss: 0.0136\n",
            "Epoch 40/50\n",
            "157/157 [==============================] - 2s 10ms/step - loss: 0.0119 - val_loss: 0.0139\n",
            "Epoch 41/50\n",
            "157/157 [==============================] - 2s 10ms/step - loss: 0.0119 - val_loss: 0.0137\n",
            "Epoch 42/50\n",
            "157/157 [==============================] - 2s 10ms/step - loss: 0.0119 - val_loss: 0.0136\n",
            "Epoch 43/50\n",
            "157/157 [==============================] - 2s 10ms/step - loss: 0.0118 - val_loss: 0.0144\n",
            "Epoch 44/50\n",
            "157/157 [==============================] - 2s 10ms/step - loss: 0.0120 - val_loss: 0.0138\n",
            "Epoch 45/50\n",
            "157/157 [==============================] - 2s 10ms/step - loss: 0.0118 - val_loss: 0.0140\n",
            "Epoch 46/50\n",
            "157/157 [==============================] - 2s 10ms/step - loss: 0.0119 - val_loss: 0.0136\n",
            "Epoch 47/50\n",
            "157/157 [==============================] - 2s 10ms/step - loss: 0.0117 - val_loss: 0.0140\n",
            "Epoch 48/50\n",
            "157/157 [==============================] - 2s 10ms/step - loss: 0.0118 - val_loss: 0.0138\n",
            "Epoch 49/50\n",
            "157/157 [==============================] - 2s 10ms/step - loss: 0.0118 - val_loss: 0.0138\n",
            "Epoch 50/50\n",
            "157/157 [==============================] - 2s 10ms/step - loss: 0.0117 - val_loss: 0.0136\n"
          ],
          "name": "stdout"
        },
        {
          "output_type": "execute_result",
          "data": {
            "text/plain": [
              "<tensorflow.python.keras.callbacks.History at 0x7f6028634f90>"
            ]
          },
          "metadata": {
            "tags": []
          },
          "execution_count": 180
        }
      ]
    },
    {
      "cell_type": "code",
      "metadata": {
        "id": "SmLdgFuLkHLE"
      },
      "source": [
        "#After our autoencoder has trained, we can try to encode and decode the test set to see how well our autoencoder can compress\n",
        "decoded_imgs = autoencoder.predict(X_test)"
      ],
      "execution_count": 164,
      "outputs": []
    },
    {
      "cell_type": "markdown",
      "metadata": {
        "id": "l9AV9WA32DO4"
      },
      "source": [
        "Visvualize the results "
      ]
    },
    {
      "cell_type": "code",
      "metadata": {
        "colab": {
          "base_uri": "https://localhost:8080/",
          "height": 253
        },
        "id": "4QGe9UvVu2gL",
        "outputId": "587be3fb-0674-449e-9339-adfb76b4d048"
      },
      "source": [
        "\n",
        "plt.figure(figsize=(20, 4))\n",
        "for i in range(10):\n",
        "    # original\n",
        "    plt.subplot(2, 10, i + 1)\n",
        "    plt.imshow(X_test[i].reshape(32, 32,3))\n",
        "    plt.gray()\n",
        "    plt.axis('off')\n",
        " \n",
        "    # reconstruction\n",
        "    plt.subplot(2, 10, i + 1 + 10)\n",
        "    plt.imshow(decoded_imgs[i].reshape(32, 32,3))\n",
        "    plt.gray()\n",
        "    plt.axis('off')\n",
        " \n",
        "plt.tight_layout()\n",
        "plt.show()"
      ],
      "execution_count": 165,
      "outputs": [
        {
          "output_type": "stream",
          "text": [
            "Clipping input data to the valid range for imshow with RGB data ([0..1] for floats or [0..255] for integers).\n",
            "Clipping input data to the valid range for imshow with RGB data ([0..1] for floats or [0..255] for integers).\n"
          ],
          "name": "stderr"
        },
        {
          "output_type": "display_data",
          "data": {
            "image/png": "[encoded data removed]",
            "text/plain": [
              "<Figure size 1440x288 with 20 Axes>"
            ]
          },
          "metadata": {
            "tags": [],
            "needs_background": "light"
          }
        }
      ]
    },
    {
      "cell_type": "markdown",
      "metadata": {
        "id": "qPuU-xlr2IQi"
      },
      "source": [
        "CNN \n",
        "\n",
        "The Problem: MNIST digit classification\n",
        "\t\n",
        "We’re going to tackle a classic introductory Computer Vision problem: MNIST handwritten digit classification. It’s simple: given an image, classify it as a digit\n",
        "\t\n",
        "Each image in the MNIST dataset is 28x28 and contains a centered, grayscale digit. Our CNN will take an image and output one of 10 possible classes (one for each digit)\n",
        "\n",
        "First of all,  import all necessary packages\n",
        "\n"
      ]
    },
    {
      "cell_type": "code",
      "metadata": {
        "id": "FAcah1drwp5F"
      },
      "source": [
        "import numpy as np\n",
        "import tensorflow as tf\n",
        "from keras.datasets import cifar10 as mnist\n",
        "from keras.models import Sequential\n",
        "from keras.layers import Conv2D, MaxPooling2D, Dense, Flatten\n",
        "from keras.utils import to_categorical"
      ],
      "execution_count": 166,
      "outputs": []
    },
    {
      "cell_type": "code",
      "metadata": {
        "id": "G8wNQ_5JwrbI"
      },
      "source": [
        "(train_images, train_labels), (test_images, test_labels) = mnist.load_data()"
      ],
      "execution_count": 167,
      "outputs": []
    },
    {
      "cell_type": "markdown",
      "metadata": {
        "id": "2sT7ApeR2u4I"
      },
      "source": [
        "Before we begin, we’ll normalize the image pixel values from [0, 255] to [-0.5, 0.5]\n",
        "\t \n",
        "This will  make our network easier to train (using smaller, centered values usually leads to better results). \n",
        "\n",
        "We’ll also reshape each image from (28, 28) to (28, 28, 1) because Keras requires the third dimension. (1 stands for color scheme, which is grey scale in this case). \n",
        "\n"
      ]
    },
    {
      "cell_type": "code",
      "metadata": {
        "colab": {
          "base_uri": "https://localhost:8080/"
        },
        "id": "y8Ivcjt77vsz",
        "outputId": "fa45555d-7b54-41b1-ff57-a5a1305d4e28"
      },
      "source": [
        "\n",
        "# Normalize the images.\n",
        "train_images = (train_images / 255) - 0.5\n",
        "test_images = (test_images / 255) - 0.5\n",
        "# Reshape the images.\n",
        "print(train_images.shape)\n"
      ],
      "execution_count": 168,
      "outputs": [
        {
          "output_type": "stream",
          "text": [
            "(50000, 32, 32, 3)\n"
          ],
          "name": "stdout"
        }
      ]
    },
    {
      "cell_type": "code",
      "metadata": {
        "colab": {
          "base_uri": "https://localhost:8080/"
        },
        "id": "37_Wko8976K7",
        "outputId": "2eb645ea-d521-4e2f-bdac-dce124fcd42d"
      },
      "source": [
        "\n",
        "# Reshape the images. ## follwing code to convert rgb images to grascale and then build model, but it performed worst.\n",
        "# train_images = np.expand_dims(np.mean(train_images, axis=3), axis=3)\n",
        "# test_images = np.expand_dims(np.mean(test_images, axis=3), axis=3)\n",
        "\n",
        "# Reshape the images.\n",
        "# train_images = np.expand_dims(train_images, axis=3)\n",
        "# test_images = np.expand_dims(test_images, axis=3)\n",
        "\n",
        "train_images.shape"
      ],
      "execution_count": 169,
      "outputs": [
        {
          "output_type": "execute_result",
          "data": {
            "text/plain": [
              "(50000, 32, 32, 3)"
            ]
          },
          "metadata": {
            "tags": []
          },
          "execution_count": 169
        }
      ]
    },
    {
      "cell_type": "markdown",
      "metadata": {
        "id": "HbcsGOVu7coM"
      },
      "source": [
        "Keras model is either built using the Sequential class, which represents a linear stack of layers, or the functional Model class, which is more customizable. \n",
        "\n",
        "We’ll be using the simpler Sequential model, since our CNN will be a linear stack of layers.\n",
        "\n",
        "num_filters, filter_size, and pool_size are self-explanatory variables that set the hyperparameters for our CNN.\n",
        "\n",
        "The first layer in any Sequential model must specify the input_shape, so we do so on Conv2D. \n",
        "\n",
        "Once this input shape is specified, Keras will automatically infer the shapes of inputs for later layers.\n",
        "\t\n",
        "The output Softmax layer has 10 nodes, one for each class\n",
        "\n",
        "\n"
      ]
    },
    {
      "cell_type": "markdown",
      "metadata": {
        "id": "73nP9Kv73IJt"
      },
      "source": [
        "Keras model is either built using the Sequential class, which represents a linear stack of layers, or the functional Model class, which is more customizable. \n",
        "\n",
        "We’ll be using the simpler Sequential model, since our CNN will be a linear stack of layers.\n",
        "\n",
        "num_filters, filter_size, and pool_size are self-explanatory variables that set the hyperparameters for our CNN.\n",
        "\n",
        "The first layer in any Sequential model must specify the input_shape, so we do so on Conv2D. \n",
        "\n",
        "Once this input shape is specified, Keras will automatically infer the shapes of inputs for later layers.\n",
        "\t\n",
        "The output Softmax layer has 10 nodes, one for each class\n",
        "\n",
        "\n"
      ]
    },
    {
      "cell_type": "code",
      "metadata": {
        "id": "soSpyDp6wrr4"
      },
      "source": [
        "\n",
        "num_filters = 8\n",
        "filter_size = 5 #changed filter size and pool size from 3 to 5 and 2 to 3 respectively.\n",
        "pool_size = 3"
      ],
      "execution_count": 170,
      "outputs": []
    },
    {
      "cell_type": "code",
      "metadata": {
        "id": "2CpLEcMKw-CZ"
      },
      "source": [
        "# Build the model.\n",
        "model = Sequential([\n",
        "  Conv2D(num_filters, filter_size, input_shape=(32, 32, 3)), #changed input shape to match cifar10 data set\n",
        "  MaxPooling2D(pool_size=pool_size),\n",
        "  Flatten(),\n",
        "  Dense(10, activation='softmax'),\n",
        "])"
      ],
      "execution_count": 171,
      "outputs": []
    },
    {
      "cell_type": "markdown",
      "metadata": {
        "id": "SkwwUCKQ4M7U"
      },
      "source": [
        "Before we can begin training, we need to configure the training process. We decide 3 key factors during the compilation step:\n",
        "\t\n",
        "The optimizer. We’ll stick with a pretty good default: the Adam gradient-based optimizer. Keras has many other optimizers you can look into as well.\n",
        "\n",
        "The loss function. Since we’re using a Softmax output layer, we’ll use the Cross-Entropy loss. Keras distinguishes between binary_crossentropy (2 classes) and categorical_crossentropy (>2 classes), so we’ll use the latter. \n",
        "\n",
        "A list of metrics. Since this is a classification problem, we’ll just have Keras report on the accuracy metric.\n",
        "\n"
      ]
    },
    {
      "cell_type": "code",
      "metadata": {
        "id": "uhflsBSvw-GX"
      },
      "source": [
        "# Compile the model.\n",
        "model.compile(\n",
        "  'adam',\n",
        "  loss='categorical_crossentropy',\n",
        "  metrics=['accuracy'],\n",
        ")"
      ],
      "execution_count": 172,
      "outputs": []
    },
    {
      "cell_type": "markdown",
      "metadata": {
        "id": "SVGOn2AX41Ub"
      },
      "source": [
        "Training a model in Keras literally consists only of calling fit() and specifying some parameters. There are a lot of possible parameters, but we’ll only supply these:\n",
        "\n",
        "The training data (images and labels), commonly known as X and Y, respectively.\n",
        "\n",
        "The number of epochs (iterations over the entire dataset) to train for.\n",
        "\n",
        "The validation data (or test data), which is used during training to periodically measure the network’s performance against data it hasn’t seen before.\n",
        "\n",
        "There’s one thing we have to be careful about:\n",
        "\n",
        "Keras expects the training targets to be 10-dimensional vectors, since there are 10 nodes in our Softmax output layer. Right now, our train_labels and test_labels arrays contain single integers representing the class for each image\n",
        "\n",
        "Conveniently, Keras has a utility method that fixes this exact issue:\n",
        "to_categorical: It turns our array of class integers into an array of one-hot vectors instead. For example, 2 would become [0, 0, 1, 0, 0, 0, 0, 0, 0, 0] (it’s zero-indexed)\n",
        "\n",
        "\n",
        "\n"
      ]
    },
    {
      "cell_type": "code",
      "metadata": {
        "colab": {
          "base_uri": "https://localhost:8080/"
        },
        "id": "srpkxU0_w-JR",
        "outputId": "aba713d7-3a25-42d9-e97d-79e7d72396dc"
      },
      "source": [
        "# Train the model.\n",
        "model.fit(\n",
        "  train_images,\n",
        "  to_categorical(train_labels),\n",
        "  epochs=30,\n",
        "  validation_data=(test_images, to_categorical(test_labels)),\n",
        ")"
      ],
      "execution_count": 173,
      "outputs": [
        {
          "output_type": "stream",
          "text": [
            "Epoch 1/30\n",
            "1563/1563 [==============================] - 6s 3ms/step - loss: 1.7877 - accuracy: 0.3675 - val_loss: 1.4365 - val_accuracy: 0.4993\n",
            "Epoch 2/30\n",
            "1563/1563 [==============================] - 5s 3ms/step - loss: 1.4163 - accuracy: 0.5057 - val_loss: 1.3603 - val_accuracy: 0.5255\n",
            "Epoch 3/30\n",
            "1563/1563 [==============================] - 5s 3ms/step - loss: 1.3261 - accuracy: 0.5415 - val_loss: 1.3247 - val_accuracy: 0.5382\n",
            "Epoch 4/30\n",
            "1563/1563 [==============================] - 5s 3ms/step - loss: 1.2686 - accuracy: 0.5622 - val_loss: 1.2653 - val_accuracy: 0.5606\n",
            "Epoch 5/30\n",
            "1563/1563 [==============================] - 5s 3ms/step - loss: 1.2257 - accuracy: 0.5771 - val_loss: 1.2453 - val_accuracy: 0.5683\n",
            "Epoch 6/30\n",
            "1563/1563 [==============================] - 5s 3ms/step - loss: 1.1916 - accuracy: 0.5924 - val_loss: 1.2170 - val_accuracy: 0.5782\n",
            "Epoch 7/30\n",
            "1563/1563 [==============================] - 5s 3ms/step - loss: 1.1796 - accuracy: 0.5954 - val_loss: 1.1999 - val_accuracy: 0.5855\n",
            "Epoch 8/30\n",
            "1563/1563 [==============================] - 5s 3ms/step - loss: 1.1547 - accuracy: 0.6057 - val_loss: 1.1877 - val_accuracy: 0.5925\n",
            "Epoch 9/30\n",
            "1563/1563 [==============================] - 5s 3ms/step - loss: 1.1383 - accuracy: 0.6105 - val_loss: 1.1896 - val_accuracy: 0.5908\n",
            "Epoch 10/30\n",
            "1563/1563 [==============================] - 5s 3ms/step - loss: 1.1272 - accuracy: 0.6145 - val_loss: 1.1746 - val_accuracy: 0.5994\n",
            "Epoch 11/30\n",
            "1563/1563 [==============================] - 5s 3ms/step - loss: 1.1174 - accuracy: 0.6185 - val_loss: 1.1675 - val_accuracy: 0.5984\n",
            "Epoch 12/30\n",
            "1563/1563 [==============================] - 5s 3ms/step - loss: 1.1023 - accuracy: 0.6243 - val_loss: 1.1695 - val_accuracy: 0.6044\n",
            "Epoch 13/30\n",
            "1563/1563 [==============================] - 5s 3ms/step - loss: 1.0950 - accuracy: 0.6281 - val_loss: 1.1495 - val_accuracy: 0.6109\n",
            "Epoch 14/30\n",
            "1563/1563 [==============================] - 5s 3ms/step - loss: 1.0941 - accuracy: 0.6255 - val_loss: 1.1494 - val_accuracy: 0.6041\n",
            "Epoch 15/30\n",
            "1563/1563 [==============================] - 5s 3ms/step - loss: 1.0885 - accuracy: 0.6312 - val_loss: 1.1515 - val_accuracy: 0.6080\n",
            "Epoch 16/30\n",
            "1563/1563 [==============================] - 5s 3ms/step - loss: 1.0765 - accuracy: 0.6358 - val_loss: 1.1454 - val_accuracy: 0.6090\n",
            "Epoch 17/30\n",
            "1563/1563 [==============================] - 5s 3ms/step - loss: 1.0733 - accuracy: 0.6360 - val_loss: 1.1479 - val_accuracy: 0.6134\n",
            "Epoch 18/30\n",
            "1563/1563 [==============================] - 5s 3ms/step - loss: 1.0729 - accuracy: 0.6329 - val_loss: 1.1518 - val_accuracy: 0.6101\n",
            "Epoch 19/30\n",
            "1563/1563 [==============================] - 5s 3ms/step - loss: 1.0680 - accuracy: 0.6385 - val_loss: 1.1432 - val_accuracy: 0.6144\n",
            "Epoch 20/30\n",
            "1563/1563 [==============================] - 5s 3ms/step - loss: 1.0640 - accuracy: 0.6399 - val_loss: 1.1380 - val_accuracy: 0.6145\n",
            "Epoch 21/30\n",
            "1563/1563 [==============================] - 5s 3ms/step - loss: 1.0644 - accuracy: 0.6391 - val_loss: 1.1429 - val_accuracy: 0.6137\n",
            "Epoch 22/30\n",
            "1563/1563 [==============================] - 5s 3ms/step - loss: 1.0552 - accuracy: 0.6414 - val_loss: 1.1618 - val_accuracy: 0.6046\n",
            "Epoch 23/30\n",
            "1563/1563 [==============================] - 5s 3ms/step - loss: 1.0529 - accuracy: 0.6396 - val_loss: 1.1425 - val_accuracy: 0.6105\n",
            "Epoch 24/30\n",
            "1563/1563 [==============================] - 5s 3ms/step - loss: 1.0558 - accuracy: 0.6418 - val_loss: 1.1338 - val_accuracy: 0.6167\n",
            "Epoch 25/30\n",
            "1563/1563 [==============================] - 5s 3ms/step - loss: 1.0500 - accuracy: 0.6426 - val_loss: 1.1316 - val_accuracy: 0.6170\n",
            "Epoch 26/30\n",
            "1563/1563 [==============================] - 5s 3ms/step - loss: 1.0565 - accuracy: 0.6451 - val_loss: 1.1284 - val_accuracy: 0.6180\n",
            "Epoch 27/30\n",
            "1563/1563 [==============================] - 5s 3ms/step - loss: 1.0425 - accuracy: 0.6454 - val_loss: 1.1322 - val_accuracy: 0.6165\n",
            "Epoch 28/30\n",
            "1563/1563 [==============================] - 5s 3ms/step - loss: 1.0520 - accuracy: 0.6423 - val_loss: 1.1313 - val_accuracy: 0.6166\n",
            "Epoch 29/30\n",
            "1563/1563 [==============================] - 5s 3ms/step - loss: 1.0442 - accuracy: 0.6469 - val_loss: 1.1360 - val_accuracy: 0.6161\n",
            "Epoch 30/30\n",
            "1563/1563 [==============================] - 5s 3ms/step - loss: 1.0533 - accuracy: 0.6417 - val_loss: 1.1373 - val_accuracy: 0.6183\n"
          ],
          "name": "stdout"
        },
        {
          "output_type": "execute_result",
          "data": {
            "text/plain": [
              "<tensorflow.python.keras.callbacks.History at 0x7f6046444b10>"
            ]
          },
          "metadata": {
            "tags": []
          },
          "execution_count": 173
        }
      ]
    },
    {
      "cell_type": "markdown",
      "metadata": {
        "id": "zcMHM5u65_rF"
      },
      "source": [
        "We pass an array of inputs to predict() and it returns an array of outputs.\n",
        "\n",
        "The output of our network is 10 probabilities (because of softmax), so we’ll use np.argmax() to turn those into actual digits.\n"
      ]
    },
    {
      "cell_type": "code",
      "metadata": {
        "id": "Ganai2kyw-MX"
      },
      "source": [
        "# Predict on the first 5 test images.\n",
        "predictions = model.predict(test_images[:10])"
      ],
      "execution_count": 174,
      "outputs": []
    },
    {
      "cell_type": "code",
      "metadata": {
        "colab": {
          "base_uri": "https://localhost:8080/"
        },
        "id": "WNqIPTlow-Ox",
        "outputId": "82b5d157-f61e-49a6-8f4b-4ff43e0b1ff0"
      },
      "source": [
        "# Print our model's predictions.\n",
        "print(\"These are the model predictions :\")\n",
        "print(np.argmax(predictions, axis=1)) # [3, 8, 8, 8, 6, 6, 1, 6, 3, 1]\n",
        "print(\"\\n\")"
      ],
      "execution_count": 175,
      "outputs": [
        {
          "output_type": "stream",
          "text": [
            "These are the model predictions :\n",
            "[3 1 8 8 6 6 1 6 3 1]\n",
            "\n",
            "\n"
          ],
          "name": "stdout"
        }
      ]
    },
    {
      "cell_type": "code",
      "metadata": {
        "colab": {
          "base_uri": "https://localhost:8080/"
        },
        "id": "8KAZx-dIw-SC",
        "outputId": "2efea0ae-f672-4de9-b93c-f411fc941977"
      },
      "source": [
        "# Check our predictions against the ground truths.\n",
        "print(\"These are the corresponding labels :\")\n",
        "print([i[0] for i in test_labels[:10]]) # [3, 8, 8, 0, 6, 6, 1, 6, 3, 1]"
      ],
      "execution_count": 176,
      "outputs": [
        {
          "output_type": "stream",
          "text": [
            "These are the corresponding labels :\n",
            "[3, 8, 8, 0, 6, 6, 1, 6, 3, 1]\n"
          ],
          "name": "stdout"
        }
      ]
    },
    {
      "cell_type": "code",
      "metadata": {
        "colab": {
          "base_uri": "https://localhost:8080/",
          "height": 350
        },
        "id": "NawgZBsuDoLo",
        "outputId": "c3fdbfa5-eb95-45b7-ea89-7b0963928177"
      },
      "source": [
        "plt.figure(figsize=(20, 4))\n",
        "for i in range(10):\n",
        "    # original\n",
        "    plt.subplot(2, 10, i + 1)\n",
        "    plt.imshow(test_images[i])\n",
        "    plt.gray()\n",
        "    plt.axis('off')\n",
        " \n",
        "plt.tight_layout()\n",
        "plt.show()"
      ],
      "execution_count": 181,
      "outputs": [
        {
          "output_type": "stream",
          "text": [
            "Clipping input data to the valid range for imshow with RGB data ([0..1] for floats or [0..255] for integers).\n",
            "Clipping input data to the valid range for imshow with RGB data ([0..1] for floats or [0..255] for integers).\n",
            "Clipping input data to the valid range for imshow with RGB data ([0..1] for floats or [0..255] for integers).\n",
            "Clipping input data to the valid range for imshow with RGB data ([0..1] for floats or [0..255] for integers).\n",
            "Clipping input data to the valid range for imshow with RGB data ([0..1] for floats or [0..255] for integers).\n",
            "Clipping input data to the valid range for imshow with RGB data ([0..1] for floats or [0..255] for integers).\n",
            "Clipping input data to the valid range for imshow with RGB data ([0..1] for floats or [0..255] for integers).\n",
            "Clipping input data to the valid range for imshow with RGB data ([0..1] for floats or [0..255] for integers).\n",
            "Clipping input data to the valid range for imshow with RGB data ([0..1] for floats or [0..255] for integers).\n",
            "Clipping input data to the valid range for imshow with RGB data ([0..1] for floats or [0..255] for integers).\n"
          ],
          "name": "stderr"
        },
        {
          "output_type": "display_data",
          "data": {
            "image/png": "[encoded data removed]",
            "text/plain": [
              "<Figure size 1440x288 with 10 Axes>"
            ]
          },
          "metadata": {
            "tags": [],
            "needs_background": "light"
          }
        }
      ]
    }
  ]
}