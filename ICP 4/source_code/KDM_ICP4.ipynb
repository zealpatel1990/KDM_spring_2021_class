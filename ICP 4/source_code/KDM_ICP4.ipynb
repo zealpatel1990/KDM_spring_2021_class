{
  "nbformat": 4,
  "nbformat_minor": 0,
  "metadata": {
    "colab": {
      "name": "KDM_ICP4.ipynb",
      "provenance": [],
      "collapsed_sections": [],
      "toc_visible": true,
      "include_colab_link": true
    },
    "kernelspec": {
      "name": "python3",
      "display_name": "Python 3"
    }
  },
  "cells": [
    {
      "cell_type": "markdown",
      "metadata": {
        "id": "view-in-github",
        "colab_type": "text"
      },
      "source": [
        "<a href=\"https://colab.research.google.com/github/zealpatel1990/KDM_spring_2021_class/blob/main/ICP%204/source_code/KDM_ICP4.ipynb\" target=\"_parent\"><img src=\"https://colab.research.google.com/assets/colab-badge.svg\" alt=\"Open In Colab\"/></a>"
      ]
    },
    {
      "cell_type": "markdown",
      "metadata": {
        "id": "iqjcwzS24Jr_"
      },
      "source": [
        "Setting up PySpark in Colab\r\n",
        "\r\n",
        "Spark is written in the Scala programming language and requires the Java Virtual Machine (JVM) to run. Therefore, our first task is to download Java"
      ]
    },
    {
      "cell_type": "code",
      "metadata": {
        "id": "9iGswToj4LIS"
      },
      "source": [
        "!sudo apt-get update\r\n",
        "!apt-get install openjdk-8-jdk-headless -qq > /dev/null"
      ],
      "execution_count": null,
      "outputs": []
    },
    {
      "cell_type": "markdown",
      "metadata": {
        "id": "xzRtNPkq5VIR"
      },
      "source": [
        "Next, we will install Apache Spark 3.0.1 with Hadoop 2.7"
      ]
    },
    {
      "cell_type": "code",
      "metadata": {
        "id": "HBYZfbpk34H3"
      },
      "source": [
        "!wget -q https://www-us.apache.org/dist/spark/spark-3.0.1/spark-3.0.1-bin-hadoop2.7.tgz"
      ],
      "execution_count": null,
      "outputs": []
    },
    {
      "cell_type": "markdown",
      "metadata": {
        "id": "4L21HeCi5bde"
      },
      "source": [
        "Now, we just need to unzip that folder."
      ]
    },
    {
      "cell_type": "code",
      "metadata": {
        "id": "8-D2QoWK5cEg"
      },
      "source": [
        "!tar xf spark-3.0.1-bin-hadoop2.7.tgz"
      ],
      "execution_count": null,
      "outputs": []
    },
    {
      "cell_type": "markdown",
      "metadata": {
        "id": "grIssZqC8aYj"
      },
      "source": [
        "There is one last thing that we need to install and that is the findspark library. It will locate Spark on the system and import it as a regular library."
      ]
    },
    {
      "cell_type": "code",
      "metadata": {
        "id": "wke-MaxX57M9"
      },
      "source": [
        "!pip install -q findspark"
      ],
      "execution_count": null,
      "outputs": []
    },
    {
      "cell_type": "markdown",
      "metadata": {
        "id": "3AJ1RV578hE9"
      },
      "source": [
        "Now that we have installed all the necessary dependencies in Colab, it is time to set the environment path. This will enable us to run Pyspark in the Colab environment."
      ]
    },
    {
      "cell_type": "code",
      "metadata": {
        "id": "zvMEW0ol59ts"
      },
      "source": [
        "import os\r\n",
        "os.environ[\"JAVA_HOME\"] = \"/usr/lib/jvm/java-8-openjdk-amd64\"\r\n",
        "os.environ[\"SPARK_HOME\"] = \"/content/spark-3.0.1-bin-hadoop2.7\""
      ],
      "execution_count": null,
      "outputs": []
    },
    {
      "cell_type": "markdown",
      "metadata": {
        "id": "weGRBVLK8nKb"
      },
      "source": [
        "We need to locate Spark in the system. For that, we import findspark and use the findspark.init() method."
      ]
    },
    {
      "cell_type": "code",
      "metadata": {
        "id": "WSleoMKz6Ecg"
      },
      "source": [
        "import findspark\r\n",
        "findspark.init()"
      ],
      "execution_count": null,
      "outputs": []
    },
    {
      "cell_type": "markdown",
      "metadata": {
        "id": "r6gW5avs8yWa"
      },
      "source": [
        "If you want to know the location where Spark is installed, use findspark.find()"
      ]
    },
    {
      "cell_type": "code",
      "metadata": {
        "colab": {
          "base_uri": "https://localhost:8080/",
          "height": 35
        },
        "id": "a3EHL6x76KcK",
        "outputId": "e878a538-f46f-4703-e055-291c086364d0"
      },
      "source": [
        "findspark.find()"
      ],
      "execution_count": null,
      "outputs": [
        {
          "output_type": "execute_result",
          "data": {
            "application/vnd.google.colaboratory.intrinsic+json": {
              "type": "string"
            },
            "text/plain": [
              "'/content/spark-3.0.1-bin-hadoop2.7'"
            ]
          },
          "metadata": {
            "tags": []
          },
          "execution_count": 7
        }
      ]
    },
    {
      "cell_type": "markdown",
      "metadata": {
        "id": "sI0EI6Ox87wT"
      },
      "source": [
        "Now, we can import SparkSession from pyspark.sql and create a SparkSession, which is the entry point to Spark.\r\n",
        "\r\n",
        "You can give a name to the session using appName() and add some configurations with config() if you wish."
      ]
    },
    {
      "cell_type": "code",
      "metadata": {
        "id": "IcGOvWMJ6PUo"
      },
      "source": [
        "from pyspark.sql import SparkSession\r\n",
        "\r\n",
        "spark = SparkSession.builder\\\r\n",
        "        .master(\"local\")\\\r\n",
        "        .appName(\"Colab\")\\\r\n",
        "        .config('spark.ui.port', '4050')\\\r\n",
        "        .getOrCreate()"
      ],
      "execution_count": null,
      "outputs": []
    },
    {
      "cell_type": "markdown",
      "metadata": {
        "id": "djWQ29kL9Ogy"
      },
      "source": [
        "Finally, print the SparkSession variable."
      ]
    },
    {
      "cell_type": "code",
      "metadata": {
        "colab": {
          "base_uri": "https://localhost:8080/",
          "height": 216
        },
        "id": "GvcENqE16XEj",
        "outputId": "494b4277-5a22-475a-f881-c7964b9dacdf"
      },
      "source": [
        "spark"
      ],
      "execution_count": null,
      "outputs": [
        {
          "output_type": "execute_result",
          "data": {
            "text/html": [
              "\n",
              "            <div>\n",
              "                <p><b>SparkSession - in-memory</b></p>\n",
              "                \n",
              "        <div>\n",
              "            <p><b>SparkContext</b></p>\n",
              "\n",
              "            <p><a href=\"http://6419e858038b:4050\">Spark UI</a></p>\n",
              "\n",
              "            <dl>\n",
              "              <dt>Version</dt>\n",
              "                <dd><code>v3.0.1</code></dd>\n",
              "              <dt>Master</dt>\n",
              "                <dd><code>local</code></dd>\n",
              "              <dt>AppName</dt>\n",
              "                <dd><code>Colab</code></dd>\n",
              "            </dl>\n",
              "        </div>\n",
              "        \n",
              "            </div>\n",
              "        "
            ],
            "text/plain": [
              "<pyspark.sql.session.SparkSession at 0x7f1e85ab1f98>"
            ]
          },
          "metadata": {
            "tags": []
          },
          "execution_count": 9
        }
      ]
    },
    {
      "cell_type": "code",
      "metadata": {
        "colab": {
          "base_uri": "https://localhost:8080/"
        },
        "id": "e4btlV8p6b3Q",
        "outputId": "a4584795-3a87-46dd-b57d-c8db97e14d80"
      },
      "source": [
        "# load data from data.csv file\r\n",
        "\r\n",
        "df = spark.read.csv(\"/content/data.csv\", header=True, inferSchema= True)\r\n",
        "df.show()\r\n"
      ],
      "execution_count": null,
      "outputs": [
        {
          "output_type": "stream",
          "text": [
            "+----------+------+-------------+-------+----------+------+------------+----------------+---------------+-------------------+-------------------+-------------------+-------------------+-------------------+-------------------+--------------+----------------+--------------------+--------------+------------+-----+\n",
            "|customerID|gender|SeniorCitizen|Partner|Dependents|tenure|PhoneService|   MultipleLines|InternetService|     OnlineSecurity|       OnlineBackup|   DeviceProtection|        TechSupport|        StreamingTV|    StreamingMovies|      Contract|PaperlessBilling|       PaymentMethod|MonthlyCharges|TotalCharges|Churn|\n",
            "+----------+------+-------------+-------+----------+------+------------+----------------+---------------+-------------------+-------------------+-------------------+-------------------+-------------------+-------------------+--------------+----------------+--------------------+--------------+------------+-----+\n",
            "|7590-VHVEG|Female|            0|    Yes|        No|     1|          No|No phone service|            DSL|                 No|                Yes|                 No|                 No|                 No|                 No|Month-to-month|             Yes|    Electronic check|         29.85|       29.85|   No|\n",
            "|5575-GNVDE|  Male|            0|     No|        No|    34|         Yes|              No|            DSL|                Yes|                 No|                Yes|                 No|                 No|                 No|      One year|              No|        Mailed check|         56.95|      1889.5|   No|\n",
            "|3668-QPYBK|  Male|            0|     No|        No|     2|         Yes|              No|            DSL|                Yes|                Yes|                 No|                 No|                 No|                 No|Month-to-month|             Yes|        Mailed check|         53.85|      108.15|  Yes|\n",
            "|7795-CFOCW|  Male|            0|     No|        No|    45|          No|No phone service|            DSL|                Yes|                 No|                Yes|                Yes|                 No|                 No|      One year|              No|Bank transfer (au...|          42.3|     1840.75|   No|\n",
            "|9237-HQITU|Female|            0|     No|        No|     2|         Yes|              No|    Fiber optic|                 No|                 No|                 No|                 No|                 No|                 No|Month-to-month|             Yes|    Electronic check|          70.7|      151.65|  Yes|\n",
            "|9305-CDSKC|Female|            0|     No|        No|     8|         Yes|             Yes|    Fiber optic|                 No|                 No|                Yes|                 No|                Yes|                Yes|Month-to-month|             Yes|    Electronic check|         99.65|       820.5|  Yes|\n",
            "|1452-KIOVK|  Male|            0|     No|       Yes|    22|         Yes|             Yes|    Fiber optic|                 No|                Yes|                 No|                 No|                Yes|                 No|Month-to-month|             Yes|Credit card (auto...|          89.1|      1949.4|   No|\n",
            "|6713-OKOMC|Female|            0|     No|        No|    10|          No|No phone service|            DSL|                Yes|                 No|                 No|                 No|                 No|                 No|Month-to-month|              No|        Mailed check|         29.75|       301.9|   No|\n",
            "|7892-POOKP|Female|            0|    Yes|        No|    28|         Yes|             Yes|    Fiber optic|                 No|                 No|                Yes|                Yes|                Yes|                Yes|Month-to-month|             Yes|    Electronic check|         104.8|     3046.05|  Yes|\n",
            "|6388-TABGU|  Male|            0|     No|       Yes|    62|         Yes|              No|            DSL|                Yes|                Yes|                 No|                 No|                 No|                 No|      One year|              No|Bank transfer (au...|         56.15|     3487.95|   No|\n",
            "|9763-GRSKD|  Male|            0|    Yes|       Yes|    13|         Yes|              No|            DSL|                Yes|                 No|                 No|                 No|                 No|                 No|Month-to-month|             Yes|        Mailed check|         49.95|      587.45|   No|\n",
            "|7469-LKBCI|  Male|            0|     No|        No|    16|         Yes|              No|             No|No internet service|No internet service|No internet service|No internet service|No internet service|No internet service|      Two year|              No|Credit card (auto...|         18.95|       326.8|   No|\n",
            "|8091-TTVAX|  Male|            0|    Yes|        No|    58|         Yes|             Yes|    Fiber optic|                 No|                 No|                Yes|                 No|                Yes|                Yes|      One year|              No|Credit card (auto...|        100.35|      5681.1|   No|\n",
            "|0280-XJGEX|  Male|            0|     No|        No|    49|         Yes|             Yes|    Fiber optic|                 No|                Yes|                Yes|                 No|                Yes|                Yes|Month-to-month|             Yes|Bank transfer (au...|         103.7|      5036.3|  Yes|\n",
            "|5129-JLPIS|  Male|            0|     No|        No|    25|         Yes|              No|    Fiber optic|                Yes|                 No|                Yes|                Yes|                Yes|                Yes|Month-to-month|             Yes|    Electronic check|         105.5|     2686.05|   No|\n",
            "|3655-SNQYZ|Female|            0|    Yes|       Yes|    69|         Yes|             Yes|    Fiber optic|                Yes|                Yes|                Yes|                Yes|                Yes|                Yes|      Two year|              No|Credit card (auto...|        113.25|     7895.15|   No|\n",
            "|8191-XWSZG|Female|            0|     No|        No|    52|         Yes|              No|             No|No internet service|No internet service|No internet service|No internet service|No internet service|No internet service|      One year|              No|        Mailed check|         20.65|     1022.95|   No|\n",
            "|9959-WOFKT|  Male|            0|     No|       Yes|    71|         Yes|             Yes|    Fiber optic|                Yes|                 No|                Yes|                 No|                Yes|                Yes|      Two year|              No|Bank transfer (au...|         106.7|     7382.25|   No|\n",
            "|4190-MFLUW|Female|            0|    Yes|       Yes|    10|         Yes|              No|            DSL|                 No|                 No|                Yes|                Yes|                 No|                 No|Month-to-month|              No|Credit card (auto...|          55.2|      528.35|  Yes|\n",
            "|4183-MYFRB|Female|            0|     No|        No|    21|         Yes|              No|    Fiber optic|                 No|                Yes|                Yes|                 No|                 No|                Yes|Month-to-month|             Yes|    Electronic check|         90.05|      1862.9|   No|\n",
            "+----------+------+-------------+-------+----------+------+------------+----------------+---------------+-------------------+-------------------+-------------------+-------------------+-------------------+-------------------+--------------+----------------+--------------------+--------------+------------+-----+\n",
            "only showing top 20 rows\n",
            "\n"
          ],
          "name": "stdout"
        }
      ]
    },
    {
      "cell_type": "markdown",
      "metadata": {
        "id": "OK-w2c5K5aNG"
      },
      "source": [
        "# 1. Transformation Tasks"
      ]
    },
    {
      "cell_type": "markdown",
      "metadata": {
        "id": "eq4BpqCY5u3D"
      },
      "source": [
        "## a. Grouping data by InternetService"
      ]
    },
    {
      "cell_type": "code",
      "metadata": {
        "colab": {
          "base_uri": "https://localhost:8080/"
        },
        "id": "EyqW_omU6-CF",
        "outputId": "d4b1163a-f9f7-4309-b5a8-8d4f00a42794"
      },
      "source": [
        "#task 1\r\n",
        "transform_1 = df.groupBy('InternetService').count()\r\n",
        "print(\"Transformation 1: Grouping data based on InternetService\")\r\n",
        "transform_1.show()"
      ],
      "execution_count": null,
      "outputs": [
        {
          "output_type": "stream",
          "text": [
            "Transformation 1: Grouping data based on the Contract feature\n",
            "+---------------+-----+\n",
            "|InternetService|count|\n",
            "+---------------+-----+\n",
            "|    Fiber optic| 3096|\n",
            "|             No| 1526|\n",
            "|            DSL| 2421|\n",
            "+---------------+-----+\n",
            "\n"
          ],
          "name": "stdout"
        }
      ]
    },
    {
      "cell_type": "markdown",
      "metadata": {
        "id": "7FR2xLwp5yJU"
      },
      "source": [
        "## b. Filtering data for monthlyCharges which are greater than 100 USD"
      ]
    },
    {
      "cell_type": "code",
      "metadata": {
        "colab": {
          "base_uri": "https://localhost:8080/"
        },
        "id": "sccZ0rgT9yWy",
        "outputId": "b161f36e-96d0-4626-8381-e4baaa34dcee"
      },
      "source": [
        "# task 2\r\n",
        "\r\n",
        "transform_2 = df.filter(df['MonthlyCharges'] > 100)\r\n",
        "print(\"Transformation 3: Filtering data based on MonthlyCharges which is greater than 100 USD\")\r\n",
        "transform_2.show(20)"
      ],
      "execution_count": null,
      "outputs": [
        {
          "output_type": "stream",
          "text": [
            "Transformation 3: Filtering data based on MonthlyCharges which is greater than 100 USD\n",
            "+----------+------+-------------+-------+----------+------+------------+-------------+---------------+--------------+------------+----------------+-----------+-----------+---------------+--------------+----------------+--------------------+--------------+------------+-----+\n",
            "|customerID|gender|SeniorCitizen|Partner|Dependents|tenure|PhoneService|MultipleLines|InternetService|OnlineSecurity|OnlineBackup|DeviceProtection|TechSupport|StreamingTV|StreamingMovies|      Contract|PaperlessBilling|       PaymentMethod|MonthlyCharges|TotalCharges|Churn|\n",
            "+----------+------+-------------+-------+----------+------+------------+-------------+---------------+--------------+------------+----------------+-----------+-----------+---------------+--------------+----------------+--------------------+--------------+------------+-----+\n",
            "|7892-POOKP|Female|            0|    Yes|        No|    28|         Yes|          Yes|    Fiber optic|            No|          No|             Yes|        Yes|        Yes|            Yes|Month-to-month|             Yes|    Electronic check|         104.8|     3046.05|  Yes|\n",
            "|8091-TTVAX|  Male|            0|    Yes|        No|    58|         Yes|          Yes|    Fiber optic|            No|          No|             Yes|         No|        Yes|            Yes|      One year|              No|Credit card (auto...|        100.35|      5681.1|   No|\n",
            "|0280-XJGEX|  Male|            0|     No|        No|    49|         Yes|          Yes|    Fiber optic|            No|         Yes|             Yes|         No|        Yes|            Yes|Month-to-month|             Yes|Bank transfer (au...|         103.7|      5036.3|  Yes|\n",
            "|5129-JLPIS|  Male|            0|     No|        No|    25|         Yes|           No|    Fiber optic|           Yes|          No|             Yes|        Yes|        Yes|            Yes|Month-to-month|             Yes|    Electronic check|         105.5|     2686.05|   No|\n",
            "|3655-SNQYZ|Female|            0|    Yes|       Yes|    69|         Yes|          Yes|    Fiber optic|           Yes|         Yes|             Yes|        Yes|        Yes|            Yes|      Two year|              No|Credit card (auto...|        113.25|     7895.15|   No|\n",
            "|9959-WOFKT|  Male|            0|     No|       Yes|    71|         Yes|          Yes|    Fiber optic|           Yes|          No|             Yes|         No|        Yes|            Yes|      Two year|              No|Bank transfer (au...|         106.7|     7382.25|   No|\n",
            "|5380-WJKOV|  Male|            0|     No|        No|    34|         Yes|          Yes|    Fiber optic|            No|         Yes|             Yes|         No|        Yes|            Yes|Month-to-month|             Yes|    Electronic check|        106.35|     3549.25|  Yes|\n",
            "|5067-XJQFU|  Male|            1|    Yes|       Yes|    66|         Yes|          Yes|    Fiber optic|            No|         Yes|             Yes|        Yes|        Yes|            Yes|      One year|             Yes|    Electronic check|        108.45|     7076.35|   No|\n",
            "|5954-BDFSG|Female|            0|     No|        No|    72|         Yes|          Yes|    Fiber optic|            No|          No|             Yes|        Yes|        Yes|            Yes|      Two year|             Yes|Credit card (auto...|         107.5|      7853.7|   No|\n",
            "|0434-CSFON|Female|            0|    Yes|        No|    47|         Yes|          Yes|    Fiber optic|            No|          No|             Yes|         No|        Yes|            Yes|Month-to-month|             Yes|    Electronic check|         100.5|      4707.1|   No|\n",
            "|1891-QRQSA|  Male|            1|    Yes|       Yes|    64|         Yes|          Yes|    Fiber optic|           Yes|          No|             Yes|        Yes|        Yes|            Yes|      Two year|             Yes|Bank transfer (au...|         111.6|        7099|   No|\n",
            "|2673-CXQEU|Female|            1|     No|        No|    56|         Yes|          Yes|    Fiber optic|           Yes|         Yes|             Yes|         No|        Yes|            Yes|      One year|              No|    Electronic check|         110.5|      6139.5|   No|\n",
            "|9919-YLNNG|Female|            0|     No|        No|    42|         Yes|           No|    Fiber optic|            No|         Yes|             Yes|        Yes|        Yes|            Yes|Month-to-month|             Yes|Bank transfer (au...|         103.8|      4327.5|   No|\n",
            "|6067-NGCEU|Female|            0|     No|        No|    65|         Yes|          Yes|    Fiber optic|           Yes|         Yes|             Yes|         No|        Yes|            Yes|Month-to-month|             Yes|Credit card (auto...|        111.05|        7107|   No|\n",
            "|9848-JQJTX|  Male|            0|     No|        No|    72|         Yes|          Yes|    Fiber optic|            No|         Yes|             Yes|         No|        Yes|            Yes|      Two year|             Yes|Bank transfer (au...|         100.9|     7459.05|   No|\n",
            "|3192-NQECA|  Male|            0|    Yes|        No|    68|         Yes|          Yes|    Fiber optic|            No|         Yes|             Yes|        Yes|        Yes|            Yes|      Two year|             Yes|Bank transfer (au...|         110.0|     7611.85|  Yes|\n",
            "|6728-DKUCO|Female|            0|    Yes|       Yes|    72|         Yes|          Yes|    Fiber optic|           Yes|         Yes|              No|         No|        Yes|            Yes|      One year|             Yes|    Electronic check|        104.15|     7303.05|   No|\n",
            "|5299-RULOA|Female|            0|    Yes|       Yes|    10|         Yes|          Yes|    Fiber optic|           Yes|          No|              No|         No|        Yes|            Yes|Month-to-month|             Yes|    Electronic check|        100.25|     1064.65|  Yes|\n",
            "|1095-WGNGG|Female|            0|    Yes|        No|    61|         Yes|          Yes|    Fiber optic|            No|         Yes|              No|         No|        Yes|            Yes|      Two year|             Yes|Bank transfer (au...|        101.05|     5971.25|   No|\n",
            "|1679-JRFBR|Female|            0|    Yes|       Yes|    70|         Yes|          Yes|    Fiber optic|           Yes|         Yes|             Yes|         No|        Yes|            Yes|      One year|             Yes|Credit card (auto...|        108.15|     7930.55|   No|\n",
            "+----------+------+-------------+-------+----------+------+------------+-------------+---------------+--------------+------------+----------------+-----------+-----------+---------------+--------------+----------------+--------------------+--------------+------------+-----+\n",
            "only showing top 20 rows\n",
            "\n"
          ],
          "name": "stdout"
        }
      ]
    },
    {
      "cell_type": "markdown",
      "metadata": {
        "id": "Tol1d67a5zzy"
      },
      "source": [
        "## c. Combining transformation task: Filtering + grouping by "
      ]
    },
    {
      "cell_type": "code",
      "metadata": {
        "colab": {
          "base_uri": "https://localhost:8080/"
        },
        "id": "b_-smeZV_bau",
        "outputId": "4941e520-61f1-4c2c-9051-db2ee8069cae"
      },
      "source": [
        "# task 3\r\n",
        "\r\n",
        "# showing number of Internet services used when people pay more than 100 USD\r\n",
        "transform_3 = df.filter(df['MonthlyCharges'] > 100).groupBy('InternetService').count()\r\n",
        "print(\"Transformation 3: Filtering data based on MonthlyCharges which is greater than 100 USD\")\r\n",
        "transform_3.show()\r\n",
        "\r\n",
        "# showing number of Contract used when people pay more than 100 USD\r\n",
        "transform_3 = df.filter(df['MonthlyCharges'] > 100).groupBy('Contract').count()\r\n",
        "print(\"Transformation 3: Filtering data based on MonthlyCharges which is greater than 100 USD\")\r\n",
        "transform_3.show()"
      ],
      "execution_count": null,
      "outputs": [
        {
          "output_type": "stream",
          "text": [
            "Transformation 3: Filtering data based on MonthlyCharges which is greater than 100 USD\n",
            "+---------------+-----+\n",
            "|InternetService|count|\n",
            "+---------------+-----+\n",
            "|    Fiber optic|  902|\n",
            "+---------------+-----+\n",
            "\n",
            "Transformation 3: Filtering data based on MonthlyCharges which is greater than 100 USD\n",
            "+--------------+-----+\n",
            "|      Contract|count|\n",
            "+--------------+-----+\n",
            "|Month-to-month|  324|\n",
            "|      One year|  273|\n",
            "|      Two year|  305|\n",
            "+--------------+-----+\n",
            "\n"
          ],
          "name": "stdout"
        }
      ]
    },
    {
      "cell_type": "markdown",
      "metadata": {
        "id": "jmiaUgf25mIM"
      },
      "source": [
        "# 2. Actions Tasks "
      ]
    },
    {
      "cell_type": "markdown",
      "metadata": {
        "id": "pDkRqxOIALJt"
      },
      "source": [
        "## a. Action:  get last 3 element using tail function"
      ]
    },
    {
      "cell_type": "code",
      "metadata": {
        "colab": {
          "base_uri": "https://localhost:8080/"
        },
        "id": "Y-OY-7mrAgf2",
        "outputId": "3cc5ea44-9943-4d7a-d460-6a3ecf93d606"
      },
      "source": [
        "# action task 1\r\n",
        "action_1 = df.tail(3)\r\n",
        "print(\"Action 1: Getting last 3 data points from data set\")\r\n",
        "action_1\r\n"
      ],
      "execution_count": null,
      "outputs": [
        {
          "output_type": "stream",
          "text": [
            "Action 1: Getting 3 data points from data set\n"
          ],
          "name": "stdout"
        },
        {
          "output_type": "execute_result",
          "data": {
            "text/plain": [
              "[Row(customerID='4801-JZAZL', gender='Female', SeniorCitizen=0, Partner='Yes', Dependents='Yes', tenure=11, PhoneService='No', MultipleLines='No phone service', InternetService='DSL', OnlineSecurity='Yes', OnlineBackup='No', DeviceProtection='No', TechSupport='No', StreamingTV='No', StreamingMovies='No', Contract='Month-to-month', PaperlessBilling='Yes', PaymentMethod='Electronic check', MonthlyCharges=29.6, TotalCharges='346.45', Churn='No'),\n",
              " Row(customerID='8361-LTMKD', gender='Male', SeniorCitizen=1, Partner='Yes', Dependents='No', tenure=4, PhoneService='Yes', MultipleLines='Yes', InternetService='Fiber optic', OnlineSecurity='No', OnlineBackup='No', DeviceProtection='No', TechSupport='No', StreamingTV='No', StreamingMovies='No', Contract='Month-to-month', PaperlessBilling='Yes', PaymentMethod='Mailed check', MonthlyCharges=74.4, TotalCharges='306.6', Churn='Yes'),\n",
              " Row(customerID='3186-AJIEK', gender='Male', SeniorCitizen=0, Partner='No', Dependents='No', tenure=66, PhoneService='Yes', MultipleLines='No', InternetService='Fiber optic', OnlineSecurity='Yes', OnlineBackup='No', DeviceProtection='Yes', TechSupport='Yes', StreamingTV='Yes', StreamingMovies='Yes', Contract='Two year', PaperlessBilling='Yes', PaymentMethod='Bank transfer (automatic)', MonthlyCharges=105.65, TotalCharges='6844.5', Churn='No')]"
            ]
          },
          "metadata": {
            "tags": []
          },
          "execution_count": 37
        }
      ]
    },
    {
      "cell_type": "markdown",
      "metadata": {
        "id": "GWng-dEdANPM"
      },
      "source": [
        "## b. Action: Printing summary"
      ]
    },
    {
      "cell_type": "code",
      "metadata": {
        "colab": {
          "base_uri": "https://localhost:8080/"
        },
        "id": "XadOHwW6CBkm",
        "outputId": "bc26fde8-0ba6-47f1-b17a-86a6f61d4892"
      },
      "source": [
        "# action task 2\r\n",
        "action_2 = df.summary()\r\n",
        "print(\"Action 2: Getting all the summary of data set\")\r\n",
        "action_2.show()\r\n"
      ],
      "execution_count": null,
      "outputs": [
        {
          "output_type": "stream",
          "text": [
            "Action 2: Getting last 3 data points from data set\n",
            "+-------+----------+------+------------------+-------+----------+------------------+------------+-------------+---------------+--------------+------------+----------------+-----------+-----------+---------------+--------------+----------------+--------------------+------------------+------------------+-----+\n",
            "|summary|customerID|gender|     SeniorCitizen|Partner|Dependents|            tenure|PhoneService|MultipleLines|InternetService|OnlineSecurity|OnlineBackup|DeviceProtection|TechSupport|StreamingTV|StreamingMovies|      Contract|PaperlessBilling|       PaymentMethod|    MonthlyCharges|      TotalCharges|Churn|\n",
            "+-------+----------+------+------------------+-------+----------+------------------+------------+-------------+---------------+--------------+------------+----------------+-----------+-----------+---------------+--------------+----------------+--------------------+------------------+------------------+-----+\n",
            "|  count|      7043|  7043|              7043|   7043|      7043|              7043|        7043|         7043|           7043|          7043|        7043|            7043|       7043|       7043|           7043|          7043|            7043|                7043|              7043|              7043| 7043|\n",
            "|   mean|      null|  null|0.1621468124378816|   null|      null| 32.37114865824223|        null|         null|           null|          null|        null|            null|       null|       null|           null|          null|            null|                null| 64.76169246059922|2283.3004408418697| null|\n",
            "| stddev|      null|  null|0.3686116056100135|   null|      null|24.559481023094442|        null|         null|           null|          null|        null|            null|       null|       null|           null|          null|            null|                null|30.090047097678482| 2266.771361883145| null|\n",
            "|    min|0002-ORFBO|Female|                 0|     No|        No|                 0|          No|           No|            DSL|            No|          No|              No|         No|         No|             No|Month-to-month|              No|Bank transfer (au...|             18.25|                  |   No|\n",
            "|    25%|      null|  null|                 0|   null|      null|                 9|        null|         null|           null|          null|        null|            null|       null|       null|           null|          null|            null|                null|              35.5|             401.3| null|\n",
            "|    50%|      null|  null|                 0|   null|      null|                29|        null|         null|           null|          null|        null|            null|       null|       null|           null|          null|            null|                null|             70.35|            1397.3| null|\n",
            "|    75%|      null|  null|                 1|   null|      null|                72|        null|         null|           null|          null|        null|            null|       null|       null|           null|          null|            null|                null|            118.75|            8684.8| null|\n",
            "|    max|9995-HOTOH|  Male|                 1|    Yes|       Yes|                72|         Yes|          Yes|             No|           Yes|         Yes|             Yes|        Yes|        Yes|            Yes|      Two year|             Yes|        Mailed check|            118.75|             999.9|  Yes|\n",
            "+-------+----------+------+------------------+-------+----------+------------------+------------+-------------+---------------+--------------+------------+----------------+-----------+-----------+---------------+--------------+----------------+--------------------+------------------+------------------+-----+\n",
            "\n"
          ],
          "name": "stdout"
        }
      ]
    },
    {
      "cell_type": "markdown",
      "metadata": {
        "id": "50WRZ5_JAPZ8"
      },
      "source": [
        "## c. Action: Printing first element"
      ]
    },
    {
      "cell_type": "code",
      "metadata": {
        "colab": {
          "base_uri": "https://localhost:8080/"
        },
        "id": "0DrY3VCLDT3J",
        "outputId": "05180d95-4fe1-4728-a852-5b8f193e12e7"
      },
      "source": [
        "# action Task3\r\n",
        "\r\n",
        "action_3 = df.first()\r\n",
        "print(\"Action 3: Showing first element of data set\")\r\n",
        "action_3"
      ],
      "execution_count": null,
      "outputs": [
        {
          "output_type": "stream",
          "text": [
            "Action 3: Showing first element of data set\n"
          ],
          "name": "stdout"
        },
        {
          "output_type": "execute_result",
          "data": {
            "text/plain": [
              "Row(customerID='7590-VHVEG', gender='Female', SeniorCitizen=0, Partner='Yes', Dependents='No', tenure=1, PhoneService='No', MultipleLines='No phone service', InternetService='DSL', OnlineSecurity='No', OnlineBackup='Yes', DeviceProtection='No', TechSupport='No', StreamingTV='No', StreamingMovies='No', Contract='Month-to-month', PaperlessBilling='Yes', PaymentMethod='Electronic check', MonthlyCharges=29.85, TotalCharges='29.85', Churn='No')"
            ]
          },
          "metadata": {
            "tags": []
          },
          "execution_count": 41
        }
      ]
    }
  ]
}